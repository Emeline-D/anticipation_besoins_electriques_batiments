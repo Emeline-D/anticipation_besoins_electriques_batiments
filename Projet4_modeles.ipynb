{
  "nbformat": 4,
  "nbformat_minor": 0,
  "metadata": {
    "colab": {
      "name": "Projet4_modeles.ipynb",
      "provenance": [],
      "collapsed_sections": []
    },
    "kernelspec": {
      "name": "python3",
      "display_name": "Python 3"
    }
  },
  "cells": [
    {
      "cell_type": "code",
      "metadata": {
        "id": "Xfep8T_ktqK3",
        "colab_type": "code",
        "colab": {}
      },
      "source": [
        "# Initialisation du notebook en important les différents modules nécessaires\n",
        "!pip install -U -q PyDrive\n",
        "from pydrive.auth import GoogleAuth\n",
        "from pydrive.drive import GoogleDrive\n",
        "from google.colab import auth\n",
        "from oauth2client.client import GoogleCredentials\n",
        "from collections import OrderedDict\n",
        "\n",
        "# Initialisation du client PyDrive\n",
        "auth.authenticate_user()\n",
        "gauth = GoogleAuth()\n",
        "gauth.credentials = GoogleCredentials.get_application_default()\n",
        "drive = GoogleDrive(gauth)\n",
        "\n",
        "# Importation des modules Python nécessaires\n",
        "import pandas as pd\n",
        "import numpy as np\n",
        "import seaborn as sns\n",
        "import matplotlib.pyplot as plt\n",
        "import scipy.stats as st\n",
        "import re\n",
        "import time\n",
        "\n",
        "from sklearn import neighbors, metrics,preprocessing,model_selection,linear_model,dummy,svm\n",
        "from sklearn.decomposition import PCA\n",
        "from sklearn.ensemble import RandomForestRegressor\n",
        "from sklearn.feature_selection import SelectFromModel\n",
        "from sklearn.linear_model import Ridge,Lasso\n",
        "from sklearn.metrics import mean_squared_error,r2_score,mean_absolute_error\n",
        "from sklearn.model_selection import GridSearchCV,train_test_split,KFold,cross_val_score,StratifiedKFold\n",
        "from sklearn.neural_network import MLPRegressor\n",
        "\n",
        "import warnings\n",
        "warnings.simplefilter('ignore')"
      ],
      "execution_count": 0,
      "outputs": []
    },
    {
      "cell_type": "markdown",
      "metadata": {
        "id": "rGe60SIIwiv7",
        "colab_type": "text"
      },
      "source": [
        "Ce notebook est la premère partie du projet 4 du parcours Data Scientist. Ce projet a pour client la ville de Seattle, qui souhaite atteindre l'objectif d'être une ville neutre en émissions de carbone en 2050. Pour ce faire, nous nous basons sur l'étude de la consommation des bâtements non destinés à l'habitation, afin d'en prédire les émissions de CO2 et la consommation totale d’énergie de bâtiments pour lesquels elles n’ont pas encore été mesurées, ainsi que d'évaluer l’intérêt de l’\"ENERGY STAR Score\" pour la prédiction d’émissions. Ainsi, il nous a été donné comme fichiers les benchmarks de consommation d'énergie en 2015 et 2016, mais l'objectif est d'obtenir les prédictions pour le futur sans ce genre de relevés, coûteux à obtenir et pour éviter les fuites de données. \n",
        "\n",
        "Ce deuxième fichier va servir à appliquer les modèles sur les données préparées précédemment."
      ]
    },
    {
      "cell_type": "markdown",
      "metadata": {
        "id": "N-P0olDSwyHD",
        "colab_type": "text"
      },
      "source": [
        "<h2>Sommaire</h2>\n",
        "\n",
        "\n",
        "1. Application de modèles pour la consommation d'énergie par pied carré\n",
        "\n",
        "  A. Création des données pour l'application des modèles\n",
        "\n",
        "  B. Les modèles\n",
        "\n",
        "    1. k-NN\n",
        "\n",
        "    2. Régression \"dummy\"\n",
        "\n",
        "    3. Régression linéaire\n",
        "\n",
        "    4. Regression ridge\n",
        "\n",
        "    5. Lasso\n",
        "\n",
        "    6. SVR (Epsilon-Support Vector Regression)\n",
        "\n",
        "    7. MLP (Multi-layer Perceptron regressor)\n",
        "\n",
        "    8. Random Forest\n",
        "\n",
        "  C. Comparaison des modèles\n",
        "\n",
        "  D. Optimisation du modèle sélectionné\n",
        "\n",
        "2. Application de modèles pour les émission de CO2 par pied carré\n",
        "\n",
        "  A. Création des données pour l'application des modèles\n",
        "\n",
        "  B. Les modèles\n",
        "\n",
        "    1. k-NN\n",
        "\n",
        "    2. Régression \"dummy\"\n",
        "\n",
        "    3. Régression linéaire\n",
        "\n",
        "    4. Regression ridge\n",
        "\n",
        "    5. Lasso\n",
        "\n",
        "    6. SVR (Epsilon-Support Vector Regression)\n",
        "\n",
        "    7. MLP (Multi-layer Perceptron regressor)\n",
        "\n",
        "    8. Random Forest\n",
        "\n",
        "  C. Comparaison des modèles\n",
        "\n",
        "  D. Optimisation du modèle sélectionné\n",
        "  "
      ]
    },
    {
      "cell_type": "code",
      "metadata": {
        "id": "KhpBWcYZ6PUA",
        "colab_type": "code",
        "outputId": "4f7eb1f8-0a75-4f12-ee31-16dd04945a5b",
        "colab": {
          "base_uri": "https://localhost:8080/",
          "height": 34
        }
      },
      "source": [
        "# Importation des données dans le notebook, à partir du Google Drive\n",
        "\n",
        "link1=\"https://drive.google.com/open?id=1hPUotB-TTmhH71Wb1h8NZLFhzVkXITct\"\n",
        "fluff, id = link1.split('=')\n",
        "downloaded = drive.CreateFile({'id':id}) \n",
        "downloaded.GetContentFile('datatrait.csv')  \n",
        "data = pd.read_csv('datatrait.csv',sep='\\t') # \\t pour la tabulation\n",
        "print (\"Data importées\")"
      ],
      "execution_count": 2,
      "outputs": [
        {
          "output_type": "stream",
          "text": [
            "Data importées\n"
          ],
          "name": "stdout"
        }
      ]
    },
    {
      "cell_type": "markdown",
      "metadata": {
        "id": "25lgOY_K6b2r",
        "colab_type": "text"
      },
      "source": [
        "# Application de modèles pour la consommation d'énergie par pied carré"
      ]
    },
    {
      "cell_type": "markdown",
      "metadata": {
        "id": "jBN7Bi0m6o6m",
        "colab_type": "text"
      },
      "source": [
        "<h3>Création des données pour l'application des modèles</h3>\n",
        "\n",
        "La première chose à faire pour chercher le meilleur modèle est de définir les variables sur lesquelles seront appliquées ces modèles.\n",
        "\n",
        "Pour commencer, nous savons que beaucoup de bâtiments sont présents en deux exemplaires : un pour 2015, un pour 2016. Il serait donc intéressant de ne pas avoir de doublon dans l'échantillon sélectionné, afin de ne pas biaiser le modèle. Nous sélectionnons donc l'année 2016 grâce à notre variable rajoutée. Nous retirons ensuite cette variable rajoutée ainsi que les variables non numériques ne pouvant donc être utilisées pour nos modèles.\n",
        "\n",
        "Notre variable à définir (le Y) est donc la consommation d'énergie par pied carré, à savoir la variable \"SiteEUIWN\", et nos variables sur lesquelles le modèle va se baser sont toutes celles hors consommations globales d'énergie, les émissions de gaz à effet de serre et l'ID.\n",
        "\n",
        "Nous effections ensuite une stratification par les quartiles, afin de stabiliser l'échantillonnage. Cet échantillonage se fait sur une base de 80% des données dans le train, et tous les bâtiments non considérés dans l'échantillon train sont dans le test. Le paramètre \"random_state\" nous permet de conserver cet échantillonnage en cas de relance du code.\n",
        "\n",
        "Après avoir sélectionné nos échantillons, nous calculons l'importance des features dans le calcul de la consommation d'énergie. Pour cela, nous utilisons la fonction \"feature_importances_\" du modèle de random forest. Ainsi, nous pouvons voir que la variable \"ENERGYSTARScore\" est la plus importante (35%), donc doit être conservée, même si son calcul est fastidieux.\n",
        "\n",
        "Nous définissions des variables pouvant être communes à plusieurs modèles, afin de préparer leur potentielle future utilisation.\n",
        "\n",
        "Enfin, les données en X nécessitent d'être \"scalées\" pour y appliquer les modèles, ce que nous faisons. Nous avons également essayé d'effectuer une PCA pour réduire le nombre de variables, mais plusieurs tests ont montré que cela n'était pas nécessaire voire baissait la qualité des modèles calculés : nous n'en utilisons donc pas ici.\n",
        "\n"
      ]
    },
    {
      "cell_type": "code",
      "metadata": {
        "id": "tFuCQ_1_6meW",
        "colab_type": "code",
        "colab": {}
      },
      "source": [
        "# Préparation des variables d'application des modèles \n",
        "\n",
        "masque=(data[\"Year\"]==2016)\n",
        "datamodel=data[masque]\n",
        "\n",
        "datamodel=datamodel.drop([\"Location\",\"BuildingType\",\"PropertyName\",\"Year\"], axis=1)\n",
        "\n",
        "\n",
        "for column in datamodel:\n",
        "  masque=(datamodel[column].notna())\n",
        "  datamodel=datamodel[masque]\n",
        "\n",
        "# Choix de notre échantillon\n",
        "X=datamodel\n",
        "y=X[\"SiteEUIWN(kBtu/sf)\"]\n",
        "X=X.drop(['SiteEUIWN(kBtu/sf)', 'SiteEnergyUseWN(kBtu)','TotalGHGEmissions','GHGEmissionsIntensity',\"ID\"],axis=1)\n",
        "\n",
        "datatest=data.iloc[1:5,:]\n",
        "\n",
        "y_binned=pd.qcut(y, 4)\n",
        "Xtrain, Xtest, Ytrain, Ytest = train_test_split(X,y, train_size=0.8, stratify=y_binned,random_state=0)"
      ],
      "execution_count": 0,
      "outputs": []
    },
    {
      "cell_type": "code",
      "metadata": {
        "id": "6K9R85Y4HvtJ",
        "colab_type": "code",
        "outputId": "000c445d-6e74-47e5-86f3-493422f3324d",
        "colab": {
          "base_uri": "https://localhost:8080/",
          "height": 1000
        }
      },
      "source": [
        "for i in datatest :\n",
        "  print (i)\n",
        "print (len(data))\n",
        "print (len(datatest.columns))\n",
        "\n",
        "for x in datatest.itertuples():\n",
        "    print(x)"
      ],
      "execution_count": 4,
      "outputs": [
        {
          "output_type": "stream",
          "text": [
            "BuildingType\n",
            "ENERGYSTARScore\n",
            "ElectricityTauxConsom\n",
            "GFA\n",
            "GHGEmissionsIntensity\n",
            "ID\n",
            "Location\n",
            "NaturalGasTauxConsom\n",
            "OtherFuelUseTauxConsom\n",
            "PropertyName\n",
            "SiteEUIWN(kBtu/sf)\n",
            "SiteEnergyUseWN(kBtu)\n",
            "SteamUseTauxConsom\n",
            "TotalGHGEmissions\n",
            "Year\n",
            "YearBuilt\n",
            "BuildingsLN\n",
            "FloorsLN\n",
            "Neighborhood_BALLARD\n",
            "Neighborhood_CENTRAL\n",
            "Neighborhood_DELRIDGE\n",
            "Neighborhood_DOWNTOWN\n",
            "Neighborhood_EAST\n",
            "Neighborhood_GREATER DUWAMISH\n",
            "Neighborhood_LAKE UNION\n",
            "Neighborhood_MAGNOLIA / QUEEN ANNE\n",
            "Neighborhood_NORTH\n",
            "Neighborhood_NORTHEAST\n",
            "Neighborhood_NORTHWEST\n",
            "Neighborhood_SOUTHEAST\n",
            "Neighborhood_SOUTHWEST\n",
            "CouncilDistrictCode_1\n",
            "CouncilDistrictCode_2\n",
            "CouncilDistrictCode_3\n",
            "CouncilDistrictCode_4\n",
            "CouncilDistrictCode_5\n",
            "CouncilDistrictCode_6\n",
            "CouncilDistrictCode_7\n",
            "_Adult Education\n",
            "_Automobile Dealership\n",
            "_Bank Branch\n",
            "_College/University\n",
            "_Convention Center\n",
            "_Courthouse\n",
            "_Data Center\n",
            "_Distribution Center\n",
            "_Financial Office\n",
            "_Fire Station\n",
            "_Fitness Center/Health Club/Gym\n",
            "_Food Service\n",
            "_Hospital (General Medical & Surgical)\n",
            "_Hotel\n",
            "_K-12 School\n",
            "_Laboratory\n",
            "_Library\n",
            "_Lifestyle Center\n",
            "_Manufacturing/Industrial Plant\n",
            "_Medical Office\n",
            "_Movie Theater\n",
            "_Multifamily Housing\n",
            "_Museum\n",
            "_Non-Refrigerated Warehouse\n",
            "_Office\n",
            "_Other\n",
            "_Other - Education\n",
            "_Other - Entertainment/Public Assembly\n",
            "_Other - Lodging/Residential\n",
            "_Other - Mall\n",
            "_Other - Public Services\n",
            "_Other - Recreation\n",
            "_Other - Restaurant/Bar\n",
            "_Other - Services\n",
            "_Other - Utility\n",
            "_Other/Specialty Hospital\n",
            "_Outpatient Rehabilitation/Physical Therapy\n",
            "_Parking\n",
            "_Performing Arts\n",
            "_Personal Services (Health/Beauty, Dry Cleaning, etc)\n",
            "_Police Station\n",
            "_Pre-school/Daycare\n",
            "_Prison/Incarceration\n",
            "_Refrigerated Warehouse\n",
            "_Repair Services (Vehicle, Shoe, Locksmith, etc)\n",
            "_Residence Hall/Dormitory\n",
            "_Residential Care Facility\n",
            "_Restaurant\n",
            "_Retail Store\n",
            "_Self-Storage Facility\n",
            "_Senior Care Community\n",
            "_Social/Meeting Hall\n",
            "_Strip Mall\n",
            "_Supermarket/Grocery Store\n",
            "_Urgent Care/Clinic/Other Outpatient\n",
            "_Wholesale Club/Supercenter\n",
            "_Worship Facility\n",
            "_Bar/Nightclub\n",
            "_Convenience Store without Gas Station\n",
            "_Enclosed Mall\n",
            "_Food Sales\n",
            "_Swimming Pool\n",
            "_Vocational School\n",
            "_Fast Food Restaurant\n",
            "_Other - Technology/Science\n",
            "3318\n",
            "103\n",
            "Pandas(Index=1, BuildingType='NonResidential', ENERGYSTARScore=51.0, ElectricityTauxConsom=44.552879900814396, GFA=103566, GHGEmissionsIntensity=2.38, ID=2, Location='724 Pine street', NaturalGasTauxConsom=50.75396530237784, OtherFuelUseTauxConsom=0.0, PropertyName='PARAMOUNT HOTEL', _11=99.0, _12=8765788.0, SteamUseTauxConsom=0.0, TotalGHGEmissions=263.51, Year=2015, YearBuilt=1996, BuildingsLN=0.6931471805599453, FloorsLN=2.4849066497880004, Neighborhood_BALLARD=0, Neighborhood_CENTRAL=0, Neighborhood_DELRIDGE=0, Neighborhood_DOWNTOWN=1, Neighborhood_EAST=0, _24=0, _25=0, _26=0, Neighborhood_NORTH=0, Neighborhood_NORTHEAST=0, Neighborhood_NORTHWEST=0, Neighborhood_SOUTHEAST=0, Neighborhood_SOUTHWEST=0, CouncilDistrictCode_1=0, CouncilDistrictCode_2=0, CouncilDistrictCode_3=0, CouncilDistrictCode_4=0, CouncilDistrictCode_5=0, CouncilDistrictCode_6=0, CouncilDistrictCode_7=1, _39=0.0, _40=0.0, _41=0.0, _42=0.0, _43=0.0, _44=0.0, _45=0.0, _46=0.0, _47=0.0, _48=0.0, _49=0.0, _50=0.0, _51=0.0, _52=0.8099183129598517, _53=0.0, _54=0.0, _55=0.0, _56=0.0, _57=0.0, _58=0.0, _59=0.0, _60=0.0, _61=0.0, _62=0.0, _63=0.0, _64=0.0, _65=0.0, _66=0.0, _67=0.0, _68=0.0, _69=0.0, _70=0.0, _71=0.0, _72=0.0, _73=0.0, _74=0.0, _75=0.0, _76=0.1454531409922175, _77=0.0, _78=0.0, _79=0.0, _80=0.0, _81=0.0, _82=0.0, _83=0.0, _84=0.0, _85=0.0, _86=0.04462854604793079, _87=0.0, _88=0.0, _89=0.0, _90=0.0, _91=0.0, _92=0.0, _93=0.0, _94=0.0, _95=0.0, _96=0.0, _97=0.0, _98=0.0, _99=0.0, _100=0.0, _101=0.0, _102=0.0, _103=0.0)\n",
            "Pandas(Index=2, BuildingType='NonResidential', ENERGYSTARScore=18.0, ElectricityTauxConsom=65.90503501483957, GFA=961990, GHGEmissionsIntensity=1.92, ID=3, Location='1900 5th Avenue', NaturalGasTauxConsom=4.913366667076347, OtherFuelUseTauxConsom=0.0, PropertyName='WESTIN HOTEL', _11=99.7, _12=75506272.0, SteamUseTauxConsom=26.03810713896721, TotalGHGEmissions=2061.48, Year=2015, YearBuilt=1969, BuildingsLN=0.6931471805599453, FloorsLN=3.737669618283368, Neighborhood_BALLARD=0, Neighborhood_CENTRAL=0, Neighborhood_DELRIDGE=0, Neighborhood_DOWNTOWN=1, Neighborhood_EAST=0, _24=0, _25=0, _26=0, Neighborhood_NORTH=0, Neighborhood_NORTHEAST=0, Neighborhood_NORTHWEST=0, Neighborhood_SOUTHEAST=0, Neighborhood_SOUTHWEST=0, CouncilDistrictCode_1=0, CouncilDistrictCode_2=0, CouncilDistrictCode_3=0, CouncilDistrictCode_4=0, CouncilDistrictCode_5=0, CouncilDistrictCode_6=0, CouncilDistrictCode_7=1, _39=0.0, _40=0.0, _41=0.0, _42=0.0, _43=0.0, _44=0.0, _45=0.0, _46=0.0, _47=0.0, _48=0.0, _49=0.0, _50=0.0, _51=0.0, _52=0.8833469622965717, _53=0.0, _54=0.0, _55=0.0, _56=0.0, _57=0.0, _58=0.0, _59=0.0, _60=0.0, _61=0.0, _62=0.0, _63=0.0, _64=0.0, _65=0.0, _66=0.0, _67=0.0, _68=0.0, _69=0.0, _70=0.0, _71=0.0, _72=0.0, _73=0.0, _74=0.0, _75=0.0, _76=0.11665303770342833, _77=0.0, _78=0.0, _79=0.0, _80=0.0, _81=0.0, _82=0.0, _83=0.0, _84=0.0, _85=0.0, _86=0.0, _87=0.0, _88=0.0, _89=0.0, _90=0.0, _91=0.0, _92=0.0, _93=0.0, _94=0.0, _95=0.0, _96=0.0, _97=0.0, _98=0.0, _99=0.0, _100=0.0, _101=0.0, _102=0.0, _103=0.0)\n",
            "Pandas(Index=3, BuildingType='NonResidential', ENERGYSTARScore=1.0, ElectricityTauxConsom=9.76264730051823, GFA=61320, GHGEmissionsIntensity=31.38, ID=5, Location='620 STEWART ST', NaturalGasTauxConsom=7.058007483153317, OtherFuelUseTauxConsom=0.0, PropertyName='HOTEL MAX', _11=462.5, _12=28363444.0, SteamUseTauxConsom=82.7068743838019, TotalGHGEmissions=1936.34, Year=2015, YearBuilt=1926, BuildingsLN=0.6931471805599453, FloorsLN=2.3978952727983707, Neighborhood_BALLARD=0, Neighborhood_CENTRAL=0, Neighborhood_DELRIDGE=0, Neighborhood_DOWNTOWN=1, Neighborhood_EAST=0, _24=0, _25=0, _26=0, Neighborhood_NORTH=0, Neighborhood_NORTHEAST=0, Neighborhood_NORTHWEST=0, Neighborhood_SOUTHEAST=0, Neighborhood_SOUTHWEST=0, CouncilDistrictCode_1=0, CouncilDistrictCode_2=0, CouncilDistrictCode_3=0, CouncilDistrictCode_4=0, CouncilDistrictCode_5=0, CouncilDistrictCode_6=0, CouncilDistrictCode_7=1, _39=0.0, _40=0.0, _41=0.0, _42=0.0, _43=0.0, _44=0.0, _45=0.0, _46=0.0, _47=0.0, _48=0.0, _49=0.0, _50=0.0, _51=0.0, _52=nan, _53=0.0, _54=0.0, _55=0.0, _56=0.0, _57=0.0, _58=0.0, _59=0.0, _60=0.0, _61=0.0, _62=0.0, _63=0.0, _64=0.0, _65=0.0, _66=0.0, _67=0.0, _68=0.0, _69=0.0, _70=0.0, _71=0.0, _72=0.0, _73=0.0, _74=0.0, _75=0.0, _76=0.0, _77=0.0, _78=0.0, _79=0.0, _80=0.0, _81=0.0, _82=0.0, _83=0.0, _84=0.0, _85=0.0, _86=0.0, _87=0.0, _88=0.0, _89=0.0, _90=0.0, _91=0.0, _92=0.0, _93=0.0, _94=0.0, _95=0.0, _96=0.0, _97=0.0, _98=0.0, _99=0.0, _100=0.0, _101=0.0, _102=0.0, _103=0.0)\n",
            "Pandas(Index=4, BuildingType='NonResidential', ENERGYSTARScore=67.0, ElectricityTauxConsom=40.23177634158039, GFA=175580, GHGEmissionsIntensity=4.02, ID=8, Location='401 LENORA ST', NaturalGasTauxConsom=58.11754725003438, OtherFuelUseTauxConsom=0.0, PropertyName='WARWICK SEATTLE HOTEL', _11=122.1, _12=15078243.0, SteamUseTauxConsom=0.0, TotalGHGEmissions=507.7, Year=2015, YearBuilt=1980, BuildingsLN=0.6931471805599453, FloorsLN=2.9444389791664403, Neighborhood_BALLARD=0, Neighborhood_CENTRAL=0, Neighborhood_DELRIDGE=0, Neighborhood_DOWNTOWN=1, Neighborhood_EAST=0, _24=0, _25=0, _26=0, Neighborhood_NORTH=0, Neighborhood_NORTHEAST=0, Neighborhood_NORTHWEST=0, Neighborhood_SOUTHEAST=0, Neighborhood_SOUTHWEST=0, CouncilDistrictCode_1=0, CouncilDistrictCode_2=0, CouncilDistrictCode_3=0, CouncilDistrictCode_4=0, CouncilDistrictCode_5=0, CouncilDistrictCode_6=0, CouncilDistrictCode_7=1, _39=0.0, _40=0.0, _41=0.0, _42=0.0, _43=0.0, _44=0.0, _45=0.0, _46=0.0, _47=0.0, _48=0.0, _49=0.0, _50=0.0, _51=0.0, _52=0.6447762909106104, _53=0.0, _54=0.0, _55=0.0, _56=0.0, _57=0.0, _58=0.0, _59=0.0, _60=0.0, _61=0.0, _62=0.0, _63=0.0, _64=0.0, _65=0.0, _66=0.0, _67=0.0, _68=0.0, _69=0.0, _70=0.0, _71=0.0, _72=0.0, _73=0.0, _74=0.0, _75=0.0, _76=0.3552237090893896, _77=0.0, _78=0.0, _79=0.0, _80=0.0, _81=0.0, _82=0.0, _83=0.0, _84=0.0, _85=0.0, _86=0.0, _87=0.0, _88=0.0, _89=0.0, _90=0.0, _91=0.0, _92=0.0, _93=0.0, _94=0.0, _95=0.0, _96=0.0, _97=0.0, _98=0.0, _99=0.0, _100=0.0, _101=0.0, _102=0.0, _103=0.0)\n"
          ],
          "name": "stdout"
        }
      ]
    },
    {
      "cell_type": "code",
      "metadata": {
        "id": "f4zwCs2ST3ng",
        "colab_type": "code",
        "outputId": "fda48599-c611-4ff4-810b-c910c0975c85",
        "colab": {
          "base_uri": "https://localhost:8080/",
          "height": 255
        }
      },
      "source": [
        "sel = RandomForestRegressor()\n",
        "sel.fit(Xtrain, Ytrain)\n",
        "feature_importances = pd.DataFrame(sel.feature_importances_,index = Xtrain.columns,columns=['importance']).sort_values('importance',ascending=False)\n",
        "print (feature_importances)"
      ],
      "execution_count": 5,
      "outputs": [
        {
          "output_type": "stream",
          "text": [
            "                                             importance\n",
            "_Data Center                                   0.621129\n",
            "ENERGYSTARScore                                0.253983\n",
            "_Parking                                       0.045003\n",
            "ElectricityTauxConsom                          0.017505\n",
            "_Office                                        0.011940\n",
            "...                                                 ...\n",
            "_Fire Station                                  0.000000\n",
            "_Automobile Dealership                         0.000000\n",
            "_K-12 School                                   0.000000\n",
            "_Hospital (General Medical & Surgical)         0.000000\n",
            "_Outpatient Rehabilitation/Physical Therapy    0.000000\n",
            "\n",
            "[94 rows x 1 columns]\n"
          ],
          "name": "stdout"
        }
      ]
    },
    {
      "cell_type": "code",
      "metadata": {
        "id": "4qYanDU2VV7F",
        "colab_type": "code",
        "outputId": "2620b6df-a5e4-4012-d747-ad21a3194d30",
        "colab": {
          "base_uri": "https://localhost:8080/",
          "height": 34
        }
      },
      "source": [
        "Xtrain=Xtrain.values\n",
        "Xtest=Xtest.values\n",
        "\n",
        "\n",
        "n_alphas = 300\n",
        "alphas = np.logspace(-4, 4, n_alphas)\n",
        "print (\"Alphas entre \",min(alphas),\" et \",max(alphas))\n",
        "\n",
        "folds= KFold(n_splits=5,shuffle=False)"
      ],
      "execution_count": 6,
      "outputs": [
        {
          "output_type": "stream",
          "text": [
            "Alphas entre  0.0001  et  10000.0\n"
          ],
          "name": "stdout"
        }
      ]
    },
    {
      "cell_type": "code",
      "metadata": {
        "id": "fB6oAGCoVDU2",
        "colab_type": "code",
        "colab": {}
      },
      "source": [
        "std_scale = preprocessing.StandardScaler().fit(Xtrain)\n",
        "Xtrain_scaled = std_scale.transform(Xtrain)\n",
        "Xtest_scaled= std_scale.transform(Xtest)"
      ],
      "execution_count": 0,
      "outputs": []
    },
    {
      "cell_type": "code",
      "metadata": {
        "id": "HG5e6mRQYESE",
        "colab_type": "code",
        "outputId": "282d4f77-b842-4a1d-dcb5-4c3e33aef7b5",
        "colab": {
          "base_uri": "https://localhost:8080/",
          "height": 54
        }
      },
      "source": [
        "\n",
        "'''\n",
        "pca = PCA(n_components=None)\n",
        "pca.fit(Xtrain_scaled)\n",
        "print (\"Variance expliquée sur les données complètes de consommations d'énergie : \",np.cumsum(pca.explained_variance_ratio_))\n",
        "\n",
        "x=np.cumsum(pca.explained_variance_ratio_)\n",
        "y=range(0,len(x))\n",
        "sns.set()\n",
        "plt.plot(x,y)\n",
        "plt.xlabel(\"Variance expliquée\")\n",
        "plt.ylabel(\"Nombre de variables\")\n",
        "plt.show()\n",
        "\n",
        "sns.set()\n",
        "plt.plot(x,y)\n",
        "plt.xlabel(\"Variance expliquée\")\n",
        "plt.ylabel(\"Nombre de variables\")\n",
        "plt.xlim(0.75,0.85)\n",
        "plt.ylim(30,50)\n",
        "plt.show()\n",
        "\n",
        "pca_final=PCA(n_components=0.94) \n",
        "Xtrain_projected = pca_final.fit_transform(Xtrain_scaled) # Projection de notre X sur les PCs\n",
        "Xtest_projected = pca_final.transform(Xtest_scaled)\n",
        "'''"
      ],
      "execution_count": 0,
      "outputs": [
        {
          "output_type": "execute_result",
          "data": {
            "text/plain": [
              "'\\npca = PCA(n_components=None)\\npca.fit(Xtrain_scaled)\\nprint (\"Variance expliquée sur les données complètes de consommations d\\'énergie : \",np.cumsum(pca.explained_variance_ratio_))\\n\\nx=np.cumsum(pca.explained_variance_ratio_)\\ny=range(0,len(x))\\nsns.set()\\nplt.plot(x,y)\\nplt.xlabel(\"Variance expliquée\")\\nplt.ylabel(\"Nombre de variables\")\\nplt.show()\\n\\nsns.set()\\nplt.plot(x,y)\\nplt.xlabel(\"Variance expliquée\")\\nplt.ylabel(\"Nombre de variables\")\\nplt.xlim(0.75,0.85)\\nplt.ylim(30,50)\\nplt.show()\\n\\npca_final=PCA(n_components=0.94) \\nXtrain_projected = pca_final.fit_transform(Xtrain_scaled) # Projection de notre X sur les PCs\\nXtest_projected = pca_final.transform(Xtest_scaled)\\n'"
            ]
          },
          "metadata": {
            "tags": []
          },
          "execution_count": 20
        }
      ]
    },
    {
      "cell_type": "markdown",
      "metadata": {
        "id": "egdkny4yY6qT",
        "colab_type": "text"
      },
      "source": [
        "<h3>k-NN</h3>\n",
        "\n",
        "Nous commençons par tester le k Nearest Neighbors (ou k-NN) qui va calculer les valeurs recherchées en utilisant les k données voisines les plus proches. Pour cela, pour harmoniser tous les modèles, nous utilisons le GridSearchCV qui permet en même temps une cross-validation donc des résultats plus fiables. \n",
        "\n",
        "Pour le k-NN, il n'existe qu'un unique hyper-paramètre sur lequel nous pouvons jouer pour optimiser notre modèle : le nombre de voisins à sélectionner pour chacune des valeurs à calculer. Nous choisissons un intervalle assez grand pour ce paramètre, vu que nous testons le modèle pour un nombre allant de 1 à 30. \n",
        "\n",
        "Une fois le calcul effectué, nous visualisons le nombre de voisins pour lequel les résultats sont optimaux.\n",
        "\n",
        "Nous avons aussi enregistré plusieurs valeurs, comme pour chacun des modèles que nous calculerons, et en double (le train et le test), afin de comparer l'efficacité de tous les modèles testés ici :\n",
        "- le temps d'exécution du modèle (entre le tout début et la fin des predicts)\n",
        "- le score : ici, nous utiliserons le R2\n",
        "- la RMSE : racine carrée du carré moyen des erreurs, qui doit être la plus basse possible \n",
        "- la MAE : moyenne arithmétique des valeurs absolues des écarts\n",
        "\n",
        "Nous affichons enfin graphiquement les scores R2 du train et du test selon le nombre de voisins utilisés."
      ]
    },
    {
      "cell_type": "code",
      "metadata": {
        "id": "Q3HT_K_kY8p9",
        "colab_type": "code",
        "outputId": "cd503aef-064e-483e-99ed-5ffb0dbebcfc",
        "colab": {
          "base_uri": "https://localhost:8080/",
          "height": 34
        }
      },
      "source": [
        "start_time=time.time()\n",
        "\n",
        "# k-NN de régression\n",
        "parameters = {'n_neighbors': list(range(1,30))}\n",
        "\n",
        "model=neighbors.KNeighborsRegressor()\n",
        "knnreg = GridSearchCV(cv=folds,estimator=model,param_grid=parameters,return_train_score=True)\n",
        "knnreg.fit(Xtrain_scaled,Ytrain)\n",
        "\n",
        "knntime=time.time()-start_time\n",
        "\n",
        "resknn = knnreg.cv_results_\n",
        "k_knn = resknn['param_n_neighbors']\n",
        "train_score_knn = resknn['mean_train_score']\n",
        "test_score_knn = resknn['mean_test_score']\n",
        "\n",
        "print (\"Meilleur(s) hyperparamètre(s) sur le jeu d'entraînement:\",knnreg.best_params_)\n"
      ],
      "execution_count": 8,
      "outputs": [
        {
          "output_type": "stream",
          "text": [
            "Meilleur(s) hyperparamètre(s) sur le jeu d'entraînement: {'n_neighbors': 12}\n"
          ],
          "name": "stdout"
        }
      ]
    },
    {
      "cell_type": "code",
      "metadata": {
        "id": "_G8Fa488azb7",
        "colab_type": "code",
        "outputId": "31db3f65-f5b1-41d0-8984-f3c03e7fc5ec",
        "colab": {
          "base_uri": "https://localhost:8080/",
          "height": 153
        }
      },
      "source": [
        "print (\"Valeurs pour le k-NN sur le train\")\n",
        "knnpredtrain= knnreg.predict(Xtrain_scaled)\n",
        "knnpredtrainrmse=np.sqrt(mean_squared_error(Ytrain,knnpredtrain))\n",
        "print(\"RMSE = \",knnpredtrainrmse)\n",
        "knnpredtrainr2=r2_score(Ytrain, knnpredtrain)\n",
        "print(\"R2 score = \",knnpredtrainr2)\n",
        "knnpredtrainmae= mean_absolute_error(Ytrain,knnpredtrain)\n",
        "print (\"MAE :\", knnpredtrainmae)\n",
        "\n",
        "print (\"Valeurs pour le k-NN sur le test\")\n",
        "knnpredtest= knnreg.predict(Xtest_scaled)\n",
        "knnpredtestrmse=np.sqrt(mean_squared_error(Ytest,knnpredtest))\n",
        "print(\"RMSE = \",knnpredtestrmse)\n",
        "knnpredtestr2=r2_score(Ytest, knnpredtest)\n",
        "print(\"R2 score = \",knnpredtestr2)\n",
        "knnpredtestmae= mean_absolute_error(Ytest,knnpredtest)\n",
        "print (\"MAE :\", knnpredtestmae)\n",
        "\n",
        "knnstats=[\"k-NN\",knnpredtrainr2,knnpredtrainrmse,knnpredtrainmae,knnpredtestr2,knnpredtestrmse,knnpredtestmae,knntime]\n",
        "\n"
      ],
      "execution_count": 9,
      "outputs": [
        {
          "output_type": "stream",
          "text": [
            "Valeurs pour le k-NN sur le train\n",
            "RMSE =  63.71193866862443\n",
            "R2 score =  0.23103160064873363\n",
            "MAE : 27.139518319147133\n",
            "Valeurs pour le k-NN sur le test\n",
            "RMSE =  44.076573416204866\n",
            "R2 score =  0.20478836328723804\n",
            "MAE : 27.10130236346354\n"
          ],
          "name": "stdout"
        }
      ]
    },
    {
      "cell_type": "code",
      "metadata": {
        "id": "BI4D8YfAa6GP",
        "colab_type": "code",
        "outputId": "6dbe167e-81c9-48d1-8752-436884219edc",
        "colab": {
          "base_uri": "https://localhost:8080/",
          "height": 325
        }
      },
      "source": [
        "df_score = pd.DataFrame(dict(k=k_knn, test=test_score_knn, train=train_score_knn))\n",
        "ax = df_score.plot(x='k', y='train', figsize=(6, 4))\n",
        "df_score.plot(x='k', y='test', ax=ax, grid=True)\n",
        "ax.set_title(\"Evolution de la performance sur\\nles bases d'apprentissage et de test \\nen fonction du nombre de voisins\")\n",
        "ax.set_ylabel(\"r2\");"
      ],
      "execution_count": 10,
      "outputs": [
        {
          "output_type": "display_data",
          "data": {
            "image/png": "[encoded data removed]",
            "text/plain": [
              "<Figure size 432x288 with 1 Axes>"
            ]
          },
          "metadata": {
            "tags": []
          }
        }
      ]
    },
    {
      "cell_type": "markdown",
      "metadata": {
        "id": "A6O-BkTKql1k",
        "colab_type": "text"
      },
      "source": [
        "<h3>Régression \"dummy\"</h3>\n",
        "\n",
        "Nous testons le dummy regressor (dans le GridSearchCV) qui va nous servir de comparateur pour les autres modèles, comme modèle obtenant les pires résultats. \n",
        "\n",
        "Pour le dummy regressor, il n'existe qu'un unique hyper-paramètre sur lequel nous pouvons jouer pour optimiser notre modèle : la stratégie utilisée pour faire le calcul. Ici, nous en sélectionnons deux différentes : la moyenne (les résultats sont égaux à la moyenne de l'échantillon train) et la médiane (les résultats sont égaux à la médiane de l'échantillon train)\n",
        "\n",
        "Une fois le calcul effectué, nous visualisons la stratégie pour laquelle les résultats sont \"optimaux\".\n",
        "\n",
        "Nous avons aussi enregistré plusieurs valeurs, comme pour chacun des modèles que nous calculerons, et en double (le train et le test), afin de comparer l'efficacité de tous les modèles testés ici : \n",
        "- le temps d'exécution du modèle (entre le tout début et la fin des predicts)\n",
        "- le score : ici, nous utiliserons le R2\n",
        "- la RMSE : racine carrée du carré moyen des erreurs, qui doit être la plus basse possible \n",
        "- la MAE : moyenne arithmétique des valeurs absolues des écarts"
      ]
    },
    {
      "cell_type": "code",
      "metadata": {
        "id": "7Pc6ChJCAJ-x",
        "colab_type": "code",
        "outputId": "3e1acea5-2ae5-4a65-f7ac-669c4663a7ba",
        "colab": {
          "base_uri": "https://localhost:8080/",
          "height": 34
        }
      },
      "source": [
        "start_time=time.time()\n",
        "\n",
        "parameters = {'strategy':[\"mean\",\"median\"]}\n",
        "\n",
        "model = dummy.DummyRegressor()\n",
        "du=GridSearchCV(cv=folds, estimator=model,param_grid=parameters,return_train_score=True)\n",
        "du.fit(Xtrain_scaled,Ytrain)\n",
        "\n",
        "dutime=time.time()-start_time\n",
        "\n",
        "resdu = du.cv_results_\n",
        "train_score_du = resdu['mean_train_score']\n",
        "test_score_du = resdu['mean_test_score']\n",
        "\n",
        "print (\"Meilleur(s) hyperparamètre(s) sur le jeu d'entraînement:\",du.best_params_)"
      ],
      "execution_count": 11,
      "outputs": [
        {
          "output_type": "stream",
          "text": [
            "Meilleur(s) hyperparamètre(s) sur le jeu d'entraînement: {'strategy': 'median'}\n"
          ],
          "name": "stdout"
        }
      ]
    },
    {
      "cell_type": "code",
      "metadata": {
        "id": "qMKIz_aEEWCa",
        "colab_type": "code",
        "outputId": "643feb47-dd99-4fe6-e681-a221e6ccbdc4",
        "colab": {
          "base_uri": "https://localhost:8080/",
          "height": 153
        }
      },
      "source": [
        "print (\"Valeurs pour le dummy regressor sur le train\")\n",
        "dupredtrain= du.predict(Xtrain_scaled)\n",
        "dupredtrainrmse=np.sqrt(mean_squared_error(Ytrain,dupredtrain))\n",
        "print(\"RMSE = \",dupredtrainrmse)\n",
        "dupredtrainr2=r2_score(Ytrain, dupredtrain)\n",
        "print(\"R2 score = \",dupredtrainr2)\n",
        "dupredtrainmae= mean_absolute_error(Ytrain,dupredtrain)\n",
        "print (\"MAE :\", dupredtrainmae)\n",
        "\n",
        "print (\"Valeurs pour le dummy regressor sur le test\")\n",
        "dupredtest= du.predict(Xtest_scaled)\n",
        "dupredtestrmse=np.sqrt(mean_squared_error(Ytest,dupredtest))\n",
        "print(\"RMSE = \",dupredtestrmse)\n",
        "dupredtestr2=r2_score(Ytest, dupredtest)\n",
        "print(\"R2 score = \",dupredtestr2)\n",
        "dupredtestmae= mean_absolute_error(Ytest,dupredtest)\n",
        "print (\"MAE :\", dupredtestmae)\n",
        "\n",
        "dustats=[\"Dummy regressor\",dupredtrainr2,dupredtrainrmse,dupredtrainmae,dupredtestr2,dupredtestrmse,dupredtestmae,dutime]"
      ],
      "execution_count": 12,
      "outputs": [
        {
          "output_type": "stream",
          "text": [
            "Valeurs pour le dummy regressor sur le train\n",
            "RMSE =  75.15767440137405\n",
            "R2 score =  -0.0700732779595501\n",
            "MAE : 32.38281252953125\n",
            "Valeurs pour le dummy regressor sur le test\n",
            "RMSE =  51.98136174785937\n",
            "R2 score =  -0.1060184782556508\n",
            "MAE : 30.162500141875\n"
          ],
          "name": "stdout"
        }
      ]
    },
    {
      "cell_type": "markdown",
      "metadata": {
        "id": "XU56KhsGSwdZ",
        "colab_type": "text"
      },
      "source": [
        "<h3>Régression linéaire</h3>\n",
        "\n",
        "Nous testons ensuite la régression linéaire (dans le GridSearchCV) qui permet de contraindre les données à une forme de droite\n",
        "\n",
        "Pour la régression linéaire, il existe deux hyper-paramètres sur lequel nous pouvons jouer pour optimiser notre modèle : \n",
        "- \"fit_intercept\" afin de savoir si on utilise ou non l'ordonnée à l'origine\n",
        "- \"normalize\" afin de normaliser ou non le X avant la régression \n",
        "\n",
        "Une fois le calcul effectué, nous visualisons les hyperparamètres pour lesquels les résultats sont \"optimaux\".\n",
        "\n",
        "Nous avons aussi enregistré plusieurs valeurs, comme pour chacun des modèles que nous calculerons, et en double (le train et le test), afin de comparer l'efficacité de tous les modèles testés ici : \n",
        "- le temps d'exécution du modèle (entre le tout début et la fin des predicts)\n",
        "- le score : ici, nous utiliserons le R2\n",
        "- la RMSE : racine carrée du carré moyen des erreurs, qui doit être la plus basse possible \n",
        "- la MAE : moyenne arithmétique des valeurs absolues des écarts"
      ]
    },
    {
      "cell_type": "code",
      "metadata": {
        "id": "0Udv96R-TNAl",
        "colab_type": "code",
        "outputId": "53f44375-bc1f-49c0-94da-7fa5def06bd4",
        "colab": {
          "base_uri": "https://localhost:8080/",
          "height": 34
        }
      },
      "source": [
        "start_time=time.time()\n",
        "\n",
        "parameters = {'fit_intercept':[True,False],'normalize':[True,False]}\n",
        "\n",
        "model=linear_model.LinearRegression()\n",
        "lr = GridSearchCV(cv=folds,estimator=model,param_grid=parameters,return_train_score=True)\n",
        "lr.fit(Xtrain_scaled,Ytrain)\n",
        "\n",
        "lrtime=time.time()-start_time\n",
        "\n",
        "reslr = lr.cv_results_\n",
        "train_score_lr = reslr['mean_train_score']\n",
        "test_score_lr = reslr['mean_test_score']\n",
        "\n",
        "print (\"Meilleur(s) hyperparamètre(s) sur le jeu d'entraînement:\",lr.best_params_)"
      ],
      "execution_count": 13,
      "outputs": [
        {
          "output_type": "stream",
          "text": [
            "Meilleur(s) hyperparamètre(s) sur le jeu d'entraînement: {'fit_intercept': True, 'normalize': False}\n"
          ],
          "name": "stdout"
        }
      ]
    },
    {
      "cell_type": "code",
      "metadata": {
        "id": "zgrZLypCTql8",
        "colab_type": "code",
        "outputId": "dd8ba0ec-22c2-46d0-de24-4afbd0d35fa2",
        "colab": {
          "base_uri": "https://localhost:8080/",
          "height": 153
        }
      },
      "source": [
        "print (\"Valeurs pour la régression linéaire sur le train\")\n",
        "lrpredtrain= lr.predict(Xtrain_scaled)\n",
        "lrpredtrainrmse=np.sqrt(mean_squared_error(Ytrain,lrpredtrain))\n",
        "print(\"RMSE = \",lrpredtrainrmse)\n",
        "lrpredtrainr2=r2_score(Ytrain, lrpredtrain)\n",
        "print(\"R2 score = \",lrpredtrainr2)\n",
        "lrpredtrainmae= mean_absolute_error(Ytrain,lrpredtrain)\n",
        "print (\"MAE :\", lrpredtrainmae)\n",
        "\n",
        "print (\"Valeurs pour la régression linéaire sur le test\")\n",
        "lrpredtest= lr.predict(Xtest_scaled)\n",
        "lrpredtestrmse=np.sqrt(mean_squared_error(Ytest,lrpredtest))\n",
        "print(\"RMSE = \",lrpredtestrmse)\n",
        "lrpredtestr2=r2_score(Ytest, lrpredtest)\n",
        "print(\"R2 score = \",lrpredtestr2)\n",
        "lrpredtestmae= mean_absolute_error(Ytest,lrpredtest)\n",
        "print (\"MAE :\", lrpredtestmae)\n",
        "\n",
        "lrstats=[\"Régression linéaire\",lrpredtrainr2,lrpredtrainrmse,lrpredtrainmae,lrpredtestr2,lrpredtestrmse,lrpredtestmae,lrtime]"
      ],
      "execution_count": 14,
      "outputs": [
        {
          "output_type": "stream",
          "text": [
            "Valeurs pour la régression linéaire sur le train\n",
            "RMSE =  18.834454372187913\n",
            "R2 score =  0.932799432744466\n",
            "MAE : 11.233102481743447\n",
            "Valeurs pour la régression linéaire sur le test\n",
            "RMSE =  242701525565800.22\n",
            "R2 score =  -2.4110826077826487e+25\n",
            "MAE : 59173726986770.46\n"
          ],
          "name": "stdout"
        }
      ]
    },
    {
      "cell_type": "markdown",
      "metadata": {
        "id": "L-BxoV2fh7EX",
        "colab_type": "text"
      },
      "source": [
        "<h3>Regression ridge</h3>\n",
        "\n",
        "Nous testons ensuite la regression ridge (dans le GridSearchCV) qui permet de restreindre l'amplitude des poids avec un effet de sélection groupée : les variables corrélées auront le même coefficient. Ainsi, les variables corrélées vont se combiner et se renforcer mutuellement.\n",
        "\n",
        "Pour la regression ridge, il existe trois hyper-paramètres sur lequel nous pouvons jouer pour optimiser notre modèle : \n",
        "- \"alpha\" qui est la force de régularisation, afin de réduire la variance des estimations, que nous allons modifier pour cet essai de modèle.\n",
        "- \"fit_intercept\" afin de savoir si on utilise ou non l'ordonnée à l'origine\n",
        "- \"normalize\" afin de normaliser ou non le X avant la régression \n",
        "\n",
        "Une fois le calcul effectué, nous visualisons les hyperparamètres pour lesquels les résultats sont \"optimaux\".\n",
        "\n",
        "Nous avons aussi enregistré plusieurs valeurs, comme pour chacun des modèles que nous calculerons, et en double (le train et le test), afin de comparer l'efficacité de tous les modèles testés ici : \n",
        "- le temps d'exécution du modèle (entre le tout début et la fin des predicts)\n",
        "- le score : ici, nous utiliserons le R2\n",
        "- la RMSE : racine carrée du carré moyen des erreurs, qui doit être la plus basse possible \n",
        "- la MAE : moyenne arithmétique des valeurs absolues des écarts"
      ]
    },
    {
      "cell_type": "code",
      "metadata": {
        "id": "uRh2m8Seh_UX",
        "colab_type": "code",
        "outputId": "514b0463-fefb-4e72-b602-9f7a7d8ce453",
        "colab": {
          "base_uri": "https://localhost:8080/",
          "height": 34
        }
      },
      "source": [
        "start_time=time.time()\n",
        "\n",
        "parameters = {'alpha':alphas}\n",
        "model=Ridge()\n",
        "rid = GridSearchCV(cv=folds,estimator=model,param_grid=parameters,return_train_score=True)\n",
        "\n",
        "rid.fit(Xtrain_scaled,Ytrain)\n",
        "\n",
        "ridtime=time.time()-start_time\n",
        "\n",
        "res_rid = rid.cv_results_\n",
        "alpha_rid=res_rid[\"param_alpha\"]\n",
        "train_score_rid = res_rid['mean_train_score']\n",
        "test_score_rid = res_rid['mean_test_score']\n",
        "\n",
        "print (\"Meilleur(s) hyperparamètre(s) sur le jeu d'entraînement:\",rid.best_params_)"
      ],
      "execution_count": 15,
      "outputs": [
        {
          "output_type": "stream",
          "text": [
            "Meilleur(s) hyperparamètre(s) sur le jeu d'entraînement: {'alpha': 28.72063117797828}\n"
          ],
          "name": "stdout"
        }
      ]
    },
    {
      "cell_type": "code",
      "metadata": {
        "id": "Qor43aAZjqZN",
        "colab_type": "code",
        "outputId": "e6fe07af-7fe5-4b4d-e174-ef1cb9c578fa",
        "colab": {
          "base_uri": "https://localhost:8080/",
          "height": 153
        }
      },
      "source": [
        "print (\"Valeurs pour la regression ridge sur le train\")\n",
        "ridpredtrain= rid.predict(Xtrain_scaled)\n",
        "ridpredtrainrmse=np.sqrt(mean_squared_error(Ytrain,ridpredtrain))\n",
        "print(\"RMSE = \",ridpredtrainrmse)\n",
        "ridpredtrainr2=r2_score(Ytrain, ridpredtrain)\n",
        "print(\"R2 score = \",ridpredtrainr2)\n",
        "ridpredtrainmae= mean_absolute_error(Ytrain,ridpredtrain)\n",
        "print (\"MAE :\", ridpredtrainmae)\n",
        "\n",
        "print (\"Valeurs pour la regression ridge sur le test\")\n",
        "ridpredtest= rid.predict(Xtest_scaled)\n",
        "ridpredtestrmse=np.sqrt(mean_squared_error(Ytest,ridpredtest))\n",
        "print(\"RMSE = \",ridpredtestrmse)\n",
        "ridpredtestr2=r2_score(Ytest,ridpredtest)\n",
        "print(\"R2 score = \",ridpredtestr2)\n",
        "ridpredtestmae= mean_absolute_error(Ytest,ridpredtest)\n",
        "print (\"MAE :\", ridpredtestmae)\n",
        "\n",
        "ridstats=[\"Régression ridge\",ridpredtrainr2,ridpredtrainrmse,ridpredtrainmae,ridpredtestr2,ridpredtestrmse,ridpredtestmae,ridtime]"
      ],
      "execution_count": 16,
      "outputs": [
        {
          "output_type": "stream",
          "text": [
            "Valeurs pour la regression ridge sur le train\n",
            "RMSE =  24.079648832797073\n",
            "R2 score =  0.8901583241040536\n",
            "MAE : 13.153759983990094\n",
            "Valeurs pour la regression ridge sur le test\n",
            "RMSE =  22.54894867652166\n",
            "R2 score =  0.7918771932850726\n",
            "MAE : 16.317325649395755\n"
          ],
          "name": "stdout"
        }
      ]
    },
    {
      "cell_type": "code",
      "metadata": {
        "id": "veja4OULjxqs",
        "colab_type": "code",
        "outputId": "bf3e98c6-4ae9-4881-f456-eb0dd89b4192",
        "colab": {
          "base_uri": "https://localhost:8080/",
          "height": 329
        }
      },
      "source": [
        "# Représentation graphique de la regression ridge\n",
        "\n",
        "df_score = pd.DataFrame(dict(alpha=alpha_rid, test=test_score_rid, train=train_score_rid))\n",
        "ax = df_score.plot(x='alpha', y='train', figsize=(6, 4))\n",
        "ax.set_xscale('log')\n",
        "df_score.plot(x='alpha', y='test', ax=ax, grid=True)\n",
        "ax.set_title(\"Evolution de la performance sur\\nles bases d'apprentissage et de test \\nen fonction du alpha\")\n",
        "ax.set_ylabel(\"r2\");"
      ],
      "execution_count": 17,
      "outputs": [
        {
          "output_type": "display_data",
          "data": {
            "image/png": "[encoded data removed]",
            "text/plain": [
              "<Figure size 432x288 with 1 Axes>"
            ]
          },
          "metadata": {
            "tags": []
          }
        }
      ]
    },
    {
      "cell_type": "code",
      "metadata": {
        "id": "Fpr2A0qG1FpN",
        "colab_type": "code",
        "outputId": "991dfa7e-e748-4a8a-d7de-79c8b350b25f",
        "colab": {
          "base_uri": "https://localhost:8080/",
          "height": 299
        }
      },
      "source": [
        "baseline_error = np.mean((lr.predict(Xtest_scaled) - Ytest) ** 2)\n",
        "\n",
        "ridge = Ridge()\n",
        "\n",
        "coefs = []\n",
        "errors = []\n",
        "for a in alphas:\n",
        "    ridge.set_params(alpha=a)\n",
        "    ridge.fit(Xtrain_scaled, Ytrain)\n",
        "    coefs.append(ridge.coef_)\n",
        "    errors.append([baseline_error, np.mean((ridge.predict(Xtest_scaled) - Ytest) ** 2)])\n",
        "    \n",
        "ax = plt.gca()\n",
        "\n",
        "ax.plot(alphas, coefs)\n",
        "ax.set_xscale('log')\n",
        "plt.xlabel('alpha')\n",
        "plt.ylabel('weights')\n",
        "plt.title('Ridge coefficients as a function of the regularization')\n",
        "plt.axis('tight')\n",
        "plt.show()"
      ],
      "execution_count": 18,
      "outputs": [
        {
          "output_type": "display_data",
          "data": {
            "image/png": "[encoded data removed]",
            "text/plain": [
              "<Figure size 432x288 with 1 Axes>"
            ]
          },
          "metadata": {
            "tags": []
          }
        }
      ]
    },
    {
      "cell_type": "markdown",
      "metadata": {
        "id": "zAS_Y7yyzk7q",
        "colab_type": "text"
      },
      "source": [
        "<h3>Lasso</h3>\n",
        "\n",
        "Nous testons ensuite le lasso (dans le GridSearchCV) qui permet de réduire le nombre de variables : les variables qui auront un coefficient égal à zéro ne feront plus partie du modèle.\n",
        "\n",
        "Pour le lasso, il existe deux hyper-paramètres sur lequel nous pouvons jouer pour optimiser notre modèle : \n",
        "- \"alpha\" qui est la force de régularisation, afin de réduire la variance des estimations\n",
        "- \"normalize\" afin de normaliser ou non le X avant la régression \n",
        "\n",
        "Une fois le calcul effectué, nous visualisons les hyperparamètres pour lesquels les résultats sont \"optimaux\".\n",
        "\n",
        "Nous avons aussi enregistré plusieurs valeurs, comme pour chacun des modèles que nous calculerons, et en double (le train et le test), afin de comparer l'efficacité de tous les modèles testés ici : \n",
        "- le temps d'exécution du modèle (entre le tout début et la fin des predicts)\n",
        "- le score : ici, nous utiliserons le R2\n",
        "- la RMSE : racine carrée du carré moyen des erreurs, qui doit être la plus basse possible \n",
        "- la MAE : moyenne arithmétique des valeurs absolues des écarts"
      ]
    },
    {
      "cell_type": "code",
      "metadata": {
        "id": "4sUmTuKR0TOg",
        "colab_type": "code",
        "outputId": "152366b4-1ad4-42be-d69b-7feb2cb97d8d",
        "colab": {
          "base_uri": "https://localhost:8080/",
          "height": 34
        }
      },
      "source": [
        "start_time=time.time()\n",
        "\n",
        "parameters = {'alpha':alphas}\n",
        "\n",
        "model=Lasso()\n",
        "las = GridSearchCV(cv=folds, estimator=model,param_grid=parameters,return_train_score=True)\n",
        "las.fit(Xtrain_scaled,Ytrain)\n",
        "\n",
        "lastime=time.time()-start_time\n",
        "\n",
        "res_las = las.cv_results_\n",
        "alpha_las=res_las[\"param_alpha\"]\n",
        "train_score_las = res_las['mean_train_score']\n",
        "test_score_las = res_las['mean_test_score']\n",
        "\n",
        "print (\"Meilleur(s) hyperparamètre(s) sur le jeu d'entraînement:\",las.best_params_)\n"
      ],
      "execution_count": 19,
      "outputs": [
        {
          "output_type": "stream",
          "text": [
            "Meilleur(s) hyperparamètre(s) sur le jeu d'entraînement: {'alpha': 3.9995090972036613}\n"
          ],
          "name": "stdout"
        }
      ]
    },
    {
      "cell_type": "code",
      "metadata": {
        "id": "sjSdWIgx0qvf",
        "colab_type": "code",
        "outputId": "d3aef109-e66c-438b-d093-07d18a71772b",
        "colab": {
          "base_uri": "https://localhost:8080/",
          "height": 153
        }
      },
      "source": [
        "print (\"Valeurs pour le lasso sur le train\")\n",
        "laspredtrain= las.predict(Xtrain_scaled)\n",
        "laspredtrainrmse=np.sqrt(mean_squared_error(Ytrain,laspredtrain))\n",
        "print(\"RMSE = \",laspredtrainrmse)\n",
        "laspredtrainr2=r2_score(Ytrain, laspredtrain)\n",
        "print(\"R2 score = \",laspredtrainr2)\n",
        "laspredtrainmae= mean_absolute_error(Ytrain,laspredtrain)\n",
        "print (\"MAE :\", laspredtrainmae)\n",
        "\n",
        "print (\"Valeurs pour le lasso sur le test\")\n",
        "laspredtest= las.predict(Xtest_scaled)\n",
        "laspredtestrmse=np.sqrt(mean_squared_error(Ytest,laspredtest))\n",
        "print(\"RMSE = \",laspredtestrmse)\n",
        "laspredtestr2=r2_score(Ytest,laspredtest)\n",
        "print(\"R2 score = \",laspredtestr2)\n",
        "laspredtestmae= mean_absolute_error(Ytest,laspredtest)\n",
        "print (\"MAE :\", laspredtestmae)\n",
        "\n",
        "lasstats=[\"Lasso\",laspredtrainr2,laspredtrainrmse,laspredtrainmae,laspredtestr2,laspredtestrmse,laspredtestmae,lastime]"
      ],
      "execution_count": 20,
      "outputs": [
        {
          "output_type": "stream",
          "text": [
            "Valeurs pour le lasso sur le train\n",
            "RMSE =  25.01600374182483\n",
            "R2 score =  0.8814496832398195\n",
            "MAE : 15.469110520657388\n",
            "Valeurs pour le lasso sur le test\n",
            "RMSE =  34.96505819243294\n",
            "R2 score =  0.49957892834139284\n",
            "MAE : 23.009713030339405\n"
          ],
          "name": "stdout"
        }
      ]
    },
    {
      "cell_type": "code",
      "metadata": {
        "id": "6LRMvk2m09lh",
        "colab_type": "code",
        "outputId": "2fcb547c-12f4-471d-c5c0-54d2c834371c",
        "colab": {
          "base_uri": "https://localhost:8080/",
          "height": 329
        }
      },
      "source": [
        "#Représentation graphique du lasso\n",
        "\n",
        "df_score = pd.DataFrame(dict(alpha=alpha_las, test=test_score_las, train=train_score_las))\n",
        "ax = df_score.plot(x='alpha', y='train', figsize=(6, 4))\n",
        "ax.set_xscale('log')\n",
        "df_score.plot(x='alpha', y='test', ax=ax, grid=True)\n",
        "ax.set_title(\"Evolution de la performance sur\\nles bases d'apprentissage et de test \\nen fonction du alpha\")\n",
        "ax.set_ylabel(\"r2\");"
      ],
      "execution_count": 21,
      "outputs": [
        {
          "output_type": "display_data",
          "data": {
            "image/png": "[encoded data removed]",
            "text/plain": [
              "<Figure size 432x288 with 1 Axes>"
            ]
          },
          "metadata": {
            "tags": []
          }
        }
      ]
    },
    {
      "cell_type": "code",
      "metadata": {
        "id": "o1dpOa6h1HWK",
        "colab_type": "code",
        "outputId": "0f8b1024-679c-4fc4-e279-3fefbf71dbaf",
        "colab": {
          "base_uri": "https://localhost:8080/",
          "height": 299
        }
      },
      "source": [
        "baseline_error = np.mean((lr.predict(Xtest_scaled) - Ytest) ** 2)\n",
        "\n",
        "lasso = Lasso()\n",
        "\n",
        "coefs = []\n",
        "errors = []\n",
        "for a in alphas:\n",
        "    lasso.set_params(alpha=a)\n",
        "    lasso.fit(Xtrain_scaled, Ytrain)\n",
        "    coefs.append(lasso.coef_)\n",
        "    errors.append([baseline_error, np.mean((lasso.predict(Xtest_scaled) - Ytest) ** 2)])\n",
        "    \n",
        "ax = plt.gca()\n",
        "\n",
        "ax.plot(alphas, coefs)\n",
        "ax.set_xscale('log')\n",
        "plt.xlabel('alpha')\n",
        "plt.ylabel('weights')\n",
        "plt.title('Lasso coefficients as a function of the regularization')\n",
        "plt.axis('tight')\n",
        "plt.show()"
      ],
      "execution_count": 22,
      "outputs": [
        {
          "output_type": "display_data",
          "data": {
            "image/png": "[encoded data removed]",
            "text/plain": [
              "<Figure size 432x288 with 1 Axes>"
            ]
          },
          "metadata": {
            "tags": []
          }
        }
      ]
    },
    {
      "cell_type": "markdown",
      "metadata": {
        "id": "pQQZVRcq247g",
        "colab_type": "text"
      },
      "source": [
        "<h3>SVR (Epsilon-Support Vector Regression)</h3>\n",
        "\n",
        "Nous testons ensuite le SVR (dans le GridSearchCV) qui permet de prédire une variable continue, en essayant de se caler au mieux sur une ligne d'erreur seuil. Pour cela, un SVR classifie toutes les prédictions en deux catégories : celles restant dans le domaine d'erreur, et celles ne le respectant pas.\n",
        "\n",
        "Pour le SVR, il existe trois hyper-paramètres sur lesquels nous pouvons jouer pour optimiser notre modèle : \n",
        "- le kernel est le noyau utilisé pour effectuer le calcul dans le modèle\n",
        "- \"C\" ou le paramètre d'erreur\n",
        "- \"gamma\" ou le coefficient du kernel. Plus il est haut et plus chaque valeur d'entraînement est forte.\n",
        "\n",
        "Une fois le calcul effectué, nous visualisons les hyperparamètres pour lesquels les résultats sont \"optimaux\".\n",
        "\n",
        "Nous avons aussi enregistré plusieurs valeurs, comme pour chacun des modèles que nous calculerons, et en double (le train et le test), afin de comparer l'efficacité de tous les modèles testés ici : \n",
        "- le temps d'exécution du modèle (entre le tout début et la fin des predicts)\n",
        "- le score : ici, nous utiliserons le R2\n",
        "- la RMSE : racine carrée du carré moyen des erreurs, qui doit être la plus basse possible \n",
        "- la MAE : moyenne arithmétique des valeurs absolues des écarts"
      ]
    },
    {
      "cell_type": "code",
      "metadata": {
        "id": "4xtBgVlx28ml",
        "colab_type": "code",
        "outputId": "711a119e-7946-4884-9fbd-036857af5773",
        "colab": {
          "base_uri": "https://localhost:8080/",
          "height": 34
        }
      },
      "source": [
        "start_time=time.time()\n",
        "\n",
        "parameters = {'kernel':['linear','poly','rbf','sigmoid'],'gamma':['auto_deprecated'],'C':[1.0]}\n",
        "\n",
        "model=svm.SVR()\n",
        "svr_model = GridSearchCV(cv=folds,estimator=model,param_grid=parameters,return_train_score=True)\n",
        "svr_model.fit(Xtrain_scaled,Ytrain)\n",
        "\n",
        "svrtime=time.time()-start_time\n",
        "\n",
        "res_svr= svr_model.cv_results_\n",
        "train_score_svr= res_svr['mean_train_score']\n",
        "test_score_svr = res_svr['mean_test_score']\n",
        "C_svr=res_svr['param_C']\n",
        "gamma_svr=res_svr['param_gamma']\n",
        "\n",
        "print (\"Meilleur(s) hyperparamètre(s) sur le jeu d'entraînement:\",svr_model.best_params_)\n"
      ],
      "execution_count": 23,
      "outputs": [
        {
          "output_type": "stream",
          "text": [
            "Meilleur(s) hyperparamètre(s) sur le jeu d'entraînement: {'C': 1.0, 'gamma': 'auto_deprecated', 'kernel': 'linear'}\n"
          ],
          "name": "stdout"
        }
      ]
    },
    {
      "cell_type": "code",
      "metadata": {
        "id": "lUAwr-db3x6-",
        "colab_type": "code",
        "outputId": "e3c815b8-8d5e-49c6-f6a4-543e9c0341af",
        "colab": {
          "base_uri": "https://localhost:8080/",
          "height": 153
        }
      },
      "source": [
        "print (\"Valeurs pour le SVR sur le train\")\n",
        "svrpredtrain= svr_model.predict(Xtrain_scaled)\n",
        "svrpredtrainrmse=np.sqrt(mean_squared_error(Ytrain,svrpredtrain))\n",
        "print(\"RMSE = \",svrpredtrainrmse)\n",
        "svrpredtrainr2=r2_score(Ytrain, svrpredtrain)\n",
        "print(\"R2 score = \",svrpredtrainr2)\n",
        "svrpredtrainmae= mean_absolute_error(Ytrain,svrpredtrain)\n",
        "print (\"MAE :\", svrpredtrainmae)\n",
        "\n",
        "print (\"Valeurs pour le SVR sur le test\")\n",
        "svrpredtest= svr_model.predict(Xtest_scaled)\n",
        "svrpredtestrmse=np.sqrt(mean_squared_error(Ytest,svrpredtest))\n",
        "print(\"RMSE = \",svrpredtestrmse)\n",
        "svrpredtestr2=r2_score(Ytest,svrpredtest)\n",
        "print(\"R2 score = \",svrpredtestr2)\n",
        "svrpredtestmae= mean_absolute_error(Ytest,svrpredtest)\n",
        "print (\"MAE :\", svrpredtestmae)\n",
        "\n",
        "svrstats=[\"SVR\",svrpredtrainr2,svrpredtrainrmse,svrpredtrainmae,svrpredtestr2,svrpredtestrmse,svrpredtestmae,svrtime]"
      ],
      "execution_count": 24,
      "outputs": [
        {
          "output_type": "stream",
          "text": [
            "Valeurs pour le SVR sur le train\n",
            "RMSE =  49.37841099323663\n",
            "R2 score =  0.5381073275027355\n",
            "MAE : 14.421165113997379\n",
            "Valeurs pour le SVR sur le test\n",
            "RMSE =  19.072179281899356\n",
            "R2 score =  0.8511092495387445\n",
            "MAE : 13.503284203634287\n"
          ],
          "name": "stdout"
        }
      ]
    },
    {
      "cell_type": "markdown",
      "metadata": {
        "id": "BJPMpcd6ENVl",
        "colab_type": "text"
      },
      "source": [
        "<h3>MLP (Multi-layer Perceptron regressor)</h3>\n",
        "\n",
        "Nous testons ensuite le MLP (dans le GridSearchCV) qui utilise un réseau de neurones à propagation avant. il prend donc les échantillons d'entrée et utilise des couches de neurones pour effectuer les calculs.\n",
        "\n",
        "Pour le MLP, il existe 4 hyper-paramètres sur lesquels nous pouvons jouer pour optimiser notre modèle : \n",
        "- 'hidden_layer_sizes' ou le nombre de couches et le nombre de neurones de chaque couche\n",
        "- \"activation\" ou les différents types de fonctions des couches renvoyant différentes fonctions\n",
        "- \"solver\" pour l'optimisation des poids\n",
        "- \"alpha\" qui est la force de régularisation, afin de réduire la variance des estimations, mais à une échelle différente des modèles précédents\n",
        "\n",
        "Une fois le calcul effectué, nous visualisons les hyperparamètres pour lesquels les résultats sont \"optimaux\".\n",
        "\n",
        "Nous avons aussi enregistré plusieurs valeurs, comme pour chacun des modèles que nous calculerons, et en double (le train et le test), afin de comparer l'efficacité de tous les modèles testés ici : \n",
        "- le temps d'exécution du modèle (entre le tout début et la fin des predicts)\n",
        "- le score : ici, nous utiliserons le R2\n",
        "- la RMSE : racine carrée du carré moyen des erreurs, qui doit être la plus basse possible \n",
        "- la MAE : moyenne arithmétique des valeurs absolues des écarts"
      ]
    },
    {
      "cell_type": "code",
      "metadata": {
        "id": "hIKhfIZUEiGF",
        "colab_type": "code",
        "outputId": "b3edbf7f-82a8-4f0f-818c-06651acebe18",
        "colab": {
          "base_uri": "https://localhost:8080/",
          "height": 34
        }
      },
      "source": [
        "start_time=time.time()\n",
        "\n",
        "parameters = {'hidden_layer_sizes':[(50,),(50,50)],'activation':['identity','logistic','tanh','relu'],'solver':['lbfgs','adam']}\n",
        "model=MLPRegressor()\n",
        "mlp=GridSearchCV(cv=folds, estimator=model,param_grid=parameters,return_train_score=True)\n",
        "mlp.fit(Xtrain_scaled,Ytrain)\n",
        "\n",
        "mlptime=time.time()-start_time\n",
        "\n",
        "res_mlp= mlp.cv_results_\n",
        "train_score_mlp= res_mlp['mean_train_score']\n",
        "test_score_mlp = res_mlp['mean_test_score']\n",
        "\n",
        "print (\"Meilleur(s) hyperparamètre(s) sur le jeu d'entraînement:\",mlp.best_params_)\n"
      ],
      "execution_count": 25,
      "outputs": [
        {
          "output_type": "stream",
          "text": [
            "Meilleur(s) hyperparamètre(s) sur le jeu d'entraînement: {'activation': 'relu', 'hidden_layer_sizes': (50, 50), 'solver': 'adam'}\n"
          ],
          "name": "stdout"
        }
      ]
    },
    {
      "cell_type": "code",
      "metadata": {
        "id": "p2n0L-NAGW6v",
        "colab_type": "code",
        "outputId": "75869ba7-5403-451a-a24f-1331cec584fb",
        "colab": {
          "base_uri": "https://localhost:8080/",
          "height": 153
        }
      },
      "source": [
        "print (\"Valeurs pour le MLP sur le train\")\n",
        "mlppredtrain= mlp.predict(Xtrain_scaled)\n",
        "mlppredtrainrmse=np.sqrt(mean_squared_error(Ytrain,mlppredtrain))\n",
        "print(\"RMSE = \",mlppredtrainrmse)\n",
        "mlppredtrainr2=r2_score(Ytrain, mlppredtrain)\n",
        "print(\"R2 score = \",mlppredtrainr2)\n",
        "mlppredtrainmae= mean_absolute_error(Ytrain,mlppredtrain)\n",
        "print (\"MAE :\", mlppredtrainmae)\n",
        "\n",
        "print (\"Valeurs pour le MLP sur le test\")\n",
        "mlppredtest= mlp.predict(Xtest_scaled)\n",
        "mlppredtestrmse=np.sqrt(mean_squared_error(Ytest,mlppredtest))\n",
        "print(\"RMSE = \",mlppredtestrmse)\n",
        "mlppredtestr2=r2_score(Ytest,mlppredtest)\n",
        "print(\"R2 score = \",mlppredtestr2)\n",
        "mlppredtestmae= mean_absolute_error(Ytest,mlppredtest)\n",
        "print (\"MAE :\", mlppredtestmae)\n",
        "\n",
        "mlpstats=[\"MLP\",mlppredtrainr2,mlppredtrainrmse,mlppredtrainmae,mlppredtestr2,mlppredtestrmse,mlppredtestmae,mlptime]"
      ],
      "execution_count": 26,
      "outputs": [
        {
          "output_type": "stream",
          "text": [
            "Valeurs pour le MLP sur le train\n",
            "RMSE =  39.751250499025204\n",
            "R2 score =  0.7006574576058234\n",
            "MAE : 18.40832558576691\n",
            "Valeurs pour le MLP sur le test\n",
            "RMSE =  32.589039337096494\n",
            "R2 score =  0.5652794256868385\n",
            "MAE : 22.389272728248013\n"
          ],
          "name": "stdout"
        }
      ]
    },
    {
      "cell_type": "markdown",
      "metadata": {
        "id": "BAm9P31pPybq",
        "colab_type": "text"
      },
      "source": [
        "<h3>Random Forest</h3>\n",
        "\n",
        "Nous testons enfin le RF (dans le GridSearchCV) qui combine de multiples arbres de décision pour fusionner leurs prédictions afin d'obtenir une prédiction finale plus stable et précis.\n",
        "\n",
        "Pour le RF, il existe 3 hyper-paramètres sur lesquels nous pouvons jouer pour optimiser notre modèle : \n",
        "- Le nombre d'estimateurs est le nombre d'arbres de décision utilisés\n",
        "- Le criterion est la fonction mesurant la qualité d'une décision\n",
        "- La profondeur maximale des arbres\n",
        "\n",
        "Une fois le calcul effectué, nous visualisons plusieurs indications :\n",
        "- La stratégie pour laquelle les résultats sont \"optimaux\"\n",
        "- Le score correspondant à chaque stratégie\n",
        "- Le score correspondant à chacun des 5 tours demandés par la cross-validation, afin de confirmer que la répartition des échantillons se fait de manière homogène\n",
        "\n",
        "Nous avons aussi enregistré plusieurs valeurs, comme pour chacun des modèles que nous calculerons, et en double (le train et le test), afin de comparer l'efficacité de tous les modèles testés ici : \n",
        "- le temps d'exécution du modèle (entre le tout début et la fin des predicts)\n",
        "- le score : ici, nous utiliserons le R2\n",
        "- la RMSE : racine carrée du carré moyen des erreurs, qui doit être la plus basse possible \n",
        "- la MAE : moyenne arithmétique des valeurs absolues des écarts"
      ]
    },
    {
      "cell_type": "code",
      "metadata": {
        "id": "zV_UG4jxQBbC",
        "colab_type": "code",
        "outputId": "f5451002-db83-4c80-8b87-785bcea8e5d8",
        "colab": {
          "base_uri": "https://localhost:8080/",
          "height": 34
        }
      },
      "source": [
        "start_time=time.time()\n",
        "\n",
        "parameters = {'n_estimators':[50,100,200],'max_depth':[30,50]}\n",
        "\n",
        "model=RandomForestRegressor()\n",
        "rf = GridSearchCV(cv=folds,estimator=model,param_grid=parameters,return_train_score=True)\n",
        "rf.fit(Xtrain_scaled,Ytrain)\n",
        "\n",
        "rftime=time.time()-start_time\n",
        "\n",
        "res_rf= rf.cv_results_\n",
        "train_score_rf= res_rf['mean_train_score']\n",
        "test_score_rf = res_rf['mean_test_score']\n",
        "\n",
        "print (\"Meilleur(s) hyperparamètre(s) sur le jeu d'entraînement:\",rf.best_params_)\n"
      ],
      "execution_count": 27,
      "outputs": [
        {
          "output_type": "stream",
          "text": [
            "Meilleur(s) hyperparamètre(s) sur le jeu d'entraînement: {'max_depth': 30, 'n_estimators': 200}\n"
          ],
          "name": "stdout"
        }
      ]
    },
    {
      "cell_type": "code",
      "metadata": {
        "id": "lUfhncOGQyco",
        "colab_type": "code",
        "outputId": "91a90d1c-a6aa-4f43-f35c-d26cb1b6b6e2",
        "colab": {
          "base_uri": "https://localhost:8080/",
          "height": 153
        }
      },
      "source": [
        "print (\"Valeurs pour le Random Forest sur le train\")\n",
        "rfpredtrain= rf.predict(Xtrain_scaled)\n",
        "rfpredtrainrmse=np.sqrt(mean_squared_error(Ytrain,rfpredtrain))\n",
        "print(\"RMSE = \",rfpredtrainrmse)\n",
        "rfpredtrainr2=r2_score(Ytrain, rfpredtrain)\n",
        "print(\"R2 score = \",rfpredtrainr2)\n",
        "rfpredtrainmae= mean_absolute_error(Ytrain,rfpredtrain)\n",
        "print (\"MAE :\", rfpredtrainmae)\n",
        "\n",
        "\n",
        "print (\"Valeurs pour le Random Forest sur le test\")\n",
        "rfpredtest= rf.predict(Xtest_scaled)\n",
        "rfpredtestrmse=np.sqrt(mean_squared_error(Ytest,rfpredtest))\n",
        "print(\"RMSE = \",rfpredtestrmse)\n",
        "rfpredtestr2=r2_score(Ytest,rfpredtest)\n",
        "print(\"R2 score = \",rfpredtestr2)\n",
        "rfpredtestmae= mean_absolute_error(Ytest,rfpredtest)\n",
        "print (\"MAE :\", rfpredtestmae)\n",
        "\n",
        "rfstats=[\"Random Forest\",rfpredtrainr2,rfpredtrainrmse,rfpredtrainmae,rfpredtestr2,rfpredtestrmse,rfpredtestmae,rftime]"
      ],
      "execution_count": 28,
      "outputs": [
        {
          "output_type": "stream",
          "text": [
            "Valeurs pour le Random Forest sur le train\n",
            "RMSE =  16.267179593044418\n",
            "R2 score =  0.9498707305979474\n",
            "MAE : 6.641632754292193\n",
            "Valeurs pour le Random Forest sur le test\n",
            "RMSE =  38.76605924591104\n",
            "R2 score =  0.3848650709243464\n",
            "MAE : 23.56401609965624\n"
          ],
          "name": "stdout"
        }
      ]
    },
    {
      "cell_type": "markdown",
      "metadata": {
        "id": "fiXHZEklQ9v6",
        "colab_type": "text"
      },
      "source": [
        "<h3>Comparaison des modèles</h3>\n",
        "\n",
        "Maintenant que nous avons fait tourner tous les modèles pouvant être intéressants pour nos données afin d'obtenir la consommation totale d'énergie par pied carré, nous les comparons pour sélectionner le plus adapté.\n",
        "\n",
        "Le modèle le plus adapté est donc un modèle possédant un haut score, des valeurs d'erreur basses, ainsi qu'un temps d'exécution correct.\n",
        "\n",
        "Les plus hauts scores sont obtenus avec le modèle de SVR. En effet, le SVR donne un meilleur score, des taux d'erreurs plus bas et un temps d'exécution rapide : ce sera donc le modèle sélectionné pour calculer la consommation totale d'énergie par pied carré."
      ]
    },
    {
      "cell_type": "code",
      "metadata": {
        "id": "Ce12uPmfQ_PX",
        "colab_type": "code",
        "outputId": "20c95c26-0621-41e1-8085-31f7730163a9",
        "colab": {
          "base_uri": "https://localhost:8080/",
          "height": 680
        }
      },
      "source": [
        "statsnom=[\"Score train\",\"RMSE train\",\"MAE train\",\"Score test\",\"RMSE test\",\"MAE test\",\"Temps d'exécution\"]\n",
        "stats=[statsnom,dustats,knnstats,lrstats,ridstats,lasstats,svrstats,mlpstats,rfstats]\n",
        "\n",
        "modeles=[\"Dummy regressor\",\"kNN\",\"Régression linéaire\",\"Regression ridge\",\"Lasso\",\"SVR\",\"MLP\",\"Random Forest\"]\n",
        "scoretrain=[dupredtrainr2,knnpredtrainr2,lrpredtrainr2,ridpredtrainr2,laspredtrainr2,svrpredtrainr2,mlppredtrainr2,rfpredtrainr2]\n",
        "scoretest=[dupredtestr2,knnpredtestr2,lrpredtestr2,ridpredtestr2,laspredtestr2,svrpredtestr2,mlppredtestr2,rfpredtestr2]\n",
        "\n",
        "rmsetrain=[dupredtrainrmse,knnpredtrainrmse,lrpredtrainrmse,ridpredtrainrmse,laspredtrainrmse,svrpredtrainrmse,mlppredtrainrmse,rfpredtrainrmse]\n",
        "rmsetest=[dupredtestrmse,knnpredtestrmse,lrpredtestrmse,ridpredtestrmse,laspredtestrmse,svrpredtestrmse,mlppredtestrmse,rfpredtestrmse]\n",
        "\n",
        "maetrain=[dupredtrainmae,knnpredtrainmae,lrpredtrainmae,ridpredtrainmae,laspredtrainmae,svrpredtrainmae,mlppredtrainmae,rfpredtrainmae]\n",
        "maetest=[dupredtestmae,knnpredtestmae,lrpredtestmae,ridpredtestmae,laspredtestmae,svrpredtestmae,mlppredtestmae,rfpredtestmae]\n",
        "\n",
        "time=[dutime,knntime,lrtime,ridtime,lastime,svrtime,mlptime,rftime]\n",
        "\n",
        "\n",
        "datamodeles=pd.DataFrame(dict(modeles=modeles, scoretrain=scoretrain,scoretest=scoretest,rmsetrain=rmsetrain,rmsetest=rmsetest,maetrain=maetrain,maetest=maetest,time=time))\n",
        "\n",
        "print (datamodeles.iloc[:,[0,1,2]])\n",
        "print ()\n",
        "print (datamodeles.iloc[:,[0,3,4]])\n",
        "print ()\n",
        "print (datamodeles.iloc[:,[0,5,6]])\n",
        "print ()\n",
        "print (datamodeles.iloc[:,[0,7]])"
      ],
      "execution_count": 29,
      "outputs": [
        {
          "output_type": "stream",
          "text": [
            "               modeles  scoretrain     scoretest\n",
            "0      Dummy regressor   -0.070073 -1.060185e-01\n",
            "1                  kNN    0.231032  2.047884e-01\n",
            "2  Régression linéaire    0.932799 -2.411083e+25\n",
            "3     Regression ridge    0.890158  7.918772e-01\n",
            "4                Lasso    0.881450  4.995789e-01\n",
            "5                  SVR    0.538107  8.511092e-01\n",
            "6                  MLP    0.700657  5.652794e-01\n",
            "7        Random Forest    0.949871  3.848651e-01\n",
            "\n",
            "               modeles  rmsetrain      rmsetest\n",
            "0      Dummy regressor  75.157674  5.198136e+01\n",
            "1                  kNN  63.711939  4.407657e+01\n",
            "2  Régression linéaire  18.834454  2.427015e+14\n",
            "3     Regression ridge  24.079649  2.254895e+01\n",
            "4                Lasso  25.016004  3.496506e+01\n",
            "5                  SVR  49.378411  1.907218e+01\n",
            "6                  MLP  39.751250  3.258904e+01\n",
            "7        Random Forest  16.267180  3.876606e+01\n",
            "\n",
            "               modeles   maetrain       maetest\n",
            "0      Dummy regressor  32.382813  3.016250e+01\n",
            "1                  kNN  27.139518  2.710130e+01\n",
            "2  Régression linéaire  11.233102  5.917373e+13\n",
            "3     Regression ridge  13.153760  1.631733e+01\n",
            "4                Lasso  15.469111  2.300971e+01\n",
            "5                  SVR  14.421165  1.350328e+01\n",
            "6                  MLP  18.408326  2.238927e+01\n",
            "7        Random Forest   6.641633  2.356402e+01\n",
            "\n",
            "               modeles       time\n",
            "0      Dummy regressor   0.038282\n",
            "1                  kNN   0.867004\n",
            "2  Régression linéaire   0.183548\n",
            "3     Regression ridge  10.791275\n",
            "4                Lasso  19.992284\n",
            "5                  SVR   0.136886\n",
            "6                  MLP  23.563054\n",
            "7        Random Forest   7.244895\n"
          ],
          "name": "stdout"
        }
      ]
    },
    {
      "cell_type": "markdown",
      "metadata": {
        "id": "kHEfIiKcdfzd",
        "colab_type": "text"
      },
      "source": [
        "<h3>Optimisation possible du modèle sélectionné</h3>\n",
        "\n",
        "Nous avons donc sélectionné le modèle de SVR comme étant celui donnant les résultats les plus pertinents pour la consommation totale d'énergie par pied carré. Or, ce modèle a trois hyper-paramètres : le kernel, la valeur de C et de la valeur de gamma, ce que nous avons déjà détaillé et étudié auparavant. Nous tâchons donc de trouver le modèle le plus optimal en modifiant les C et les gamma"
      ]
    },
    {
      "cell_type": "markdown",
      "metadata": {
        "id": "eWKTUMoC1DAK",
        "colab_type": "text"
      },
      "source": [
        "Nous en profitons cependant pour observer la répartition des scores lors de nos plis : or, ceux-ci ne sont absolument pas stables, allant de -0.40 à 0.52. Pour de futures améliorations de notre modèle, il pourrait être intéressant de stratifier nos données lors de notre séparation en échantillons afin d'obtenir des \"catégories\" de données plus stables."
      ]
    },
    {
      "cell_type": "code",
      "metadata": {
        "id": "gYORpBPPfNyC",
        "colab_type": "code",
        "outputId": "c3abd128-8113-4438-b916-06339977ddb4",
        "colab": {
          "base_uri": "https://localhost:8080/",
          "height": 136
        }
      },
      "source": [
        "print (\"\\nScores après chaque pli test (ici 5) :\")\n",
        "best_estim_place = np.where(svr_model.cv_results_['rank_test_score'] == 1)[0][0] \n",
        "for i in range(5):    \n",
        "  print(str(i),\" : \",svr_model.cv_results_['split' + str(i) + '_test_score'][best_estim_place])\n"
      ],
      "execution_count": 30,
      "outputs": [
        {
          "output_type": "stream",
          "text": [
            "\n",
            "Scores après chaque pli test (ici 5) :\n",
            "0  :  0.25858892130426114\n",
            "1  :  0.40939108973691063\n",
            "2  :  0.5861987120122262\n",
            "3  :  0.483964177025718\n",
            "4  :  0.1674687229079065\n"
          ],
          "name": "stdout"
        }
      ]
    },
    {
      "cell_type": "code",
      "metadata": {
        "id": "LpwQlPyXV_0l",
        "colab_type": "code",
        "outputId": "280941a1-f94b-4683-f614-3e7124793a67",
        "colab": {
          "base_uri": "https://localhost:8080/",
          "height": 51
        }
      },
      "source": [
        "print (\"Meilleur(s) hyperparamètre(s) sur le jeu d'entraînement pour le SVR testé auparavant :\",svr_model.best_params_)\n",
        "start_time=time.time()\n",
        "\n",
        "C_range = np.logspace(-1, 1, 30)\n",
        "\n",
        "parameters = {'kernel':['linear','rbf'],'C':C_range}\n",
        "model=svm.SVR()\n",
        "svr_modelopti = GridSearchCV(cv=folds,estimator=model,param_grid=parameters,return_train_score=True)\n",
        "svr_modelopti.fit(Xtrain_scaled,Ytrain)\n",
        "\n",
        "svrtime=time.time()-start_time\n",
        "\n",
        "res_svr= svr_modelopti.cv_results_\n",
        "train_score_svr= res_svr['mean_train_score']\n",
        "test_score_svr = res_svr['mean_test_score']\n",
        "\n",
        "print (\"Meilleur(s) hyperparamètre(s) sur le jeu d'entraînement:\",svr_modelopti.best_params_)\n",
        "\n"
      ],
      "execution_count": 33,
      "outputs": [
        {
          "output_type": "stream",
          "text": [
            "Meilleur(s) hyperparamètre(s) sur le jeu d'entraînement pour le SVR testé auparavant : {'C': 1.0, 'gamma': 'auto_deprecated', 'kernel': 'linear'}\n",
            "Meilleur(s) hyperparamètre(s) sur le jeu d'entraînement: {'C': 4.520353656360243, 'kernel': 'linear'}\n"
          ],
          "name": "stdout"
        }
      ]
    },
    {
      "cell_type": "code",
      "metadata": {
        "id": "NnqDMmldWRTt",
        "colab_type": "code",
        "outputId": "6cf0c584-427e-43ef-e9ff-88a7c247eafa",
        "colab": {
          "base_uri": "https://localhost:8080/",
          "height": 153
        }
      },
      "source": [
        "print (\"Valeurs pour le SVR sur le train\")\n",
        "svrpredtrain= svr_modelopti.predict(Xtrain_scaled)\n",
        "svrpredtrainrmse=np.sqrt(mean_squared_error(Ytrain,svrpredtrain))\n",
        "print(\"RMSE = \",svrpredtrainrmse)\n",
        "svrpredtrainr2=r2_score(Ytrain, svrpredtrain)\n",
        "print(\"R2 score = \",svrpredtrainr2)\n",
        "svrpredtrainmae= mean_absolute_error(Ytrain,svrpredtrain)\n",
        "print (\"MAE :\", svrpredtrainmae)\n",
        "print (\"Valeurs pour le SVR sur le test\")\n",
        "svrpredtest= svr_modelopti.predict(Xtest_scaled)\n",
        "svrpredtestrmse=np.sqrt(mean_squared_error(Ytest,svrpredtest))\n",
        "print(\"RMSE = \",svrpredtestrmse)\n",
        "svrpredtestr2=r2_score(Ytest, svrpredtest)\n",
        "print(\"R2 score = \",svrpredtestr2)\n",
        "svrpredtestmae= mean_absolute_error(Ytest,svrpredtest)\n",
        "print (\"MAE :\", svrpredtestmae)\n"
      ],
      "execution_count": 34,
      "outputs": [
        {
          "output_type": "stream",
          "text": [
            "Valeurs pour le SVR sur le train\n",
            "RMSE =  30.142649743353726\n",
            "R2 score =  0.8278806463582998\n",
            "MAE : 10.130064936054126\n",
            "Valeurs pour le SVR sur le test\n",
            "RMSE =  19.906510801330295\n",
            "R2 score =  0.837797566484178\n",
            "MAE : 15.436075208940537\n"
          ],
          "name": "stdout"
        }
      ]
    },
    {
      "cell_type": "markdown",
      "metadata": {
        "id": "eJPLZmv4njF_",
        "colab_type": "text"
      },
      "source": [
        "# Application de modèles pour les émissions de gaz à effet de serre par pied carré"
      ]
    },
    {
      "cell_type": "markdown",
      "metadata": {
        "id": "E1XrX13BsmPV",
        "colab_type": "text"
      },
      "source": [
        "<h3>Création des données pour l'application des modèles</h3>\n",
        "\n",
        "La première chose à faire pour chercher le meilleur modèle est de définir les variables sur lesquelles seront appliquées ces modèles.\n",
        "\n",
        "Pour commencer, nous savons que beaucoup de bâtiments sont présents en deux exemplaires : un pour 2015, un pour 2016. Il serait donc intéressant de ne pas avoir de doublon dans l'échantillon sélectionné, afin de ne pas biaiser le modèle. Nous sélectionnons donc l'année 2016 grâce à notre variable rajoutée. Nous retirons ensuite cette variable rajoutée ainsi que les variables non numériques ne pouvant donc être utilisées pour nos modèles.\n",
        "\n",
        "Notre variable à définir (le Y) est donc la consommation d'énergie par pied carré, à savoir la variable \"SiteEUIWN\", et nos variables sur lesquelles le modèle va se baser sont toutes celles hors consommations globales d'énergie, les émissions de gaz à effet de serre et l'ID.\n",
        "\n",
        "Nous effections ensuite une stratification par les quartiles, afin de stabiliser l'échantillonnage. Cet échantillonage se fait sur une base de 80% des données dans le train, et tous les bâtiments non considérés dans l'échantillon train sont dans le test. Le paramètre \"random_state\" nous permet de conserver cet échantillonnage en cas de relance du code.\n",
        "\n",
        "Après avoir sélectionné nos échantillons, nous calculons l'importance des features dans le calcul de la consommation d'énergie. Pour cela, nous utilisons la fonction \"feature_importances_\" du modèle de random forest. Ainsi, nous pouvons voir que la variable \"ENERGYSTARScore\" est la plus importante (35%), donc doit être conservée, même si son calcul est fastidieux.\n",
        "\n",
        "Nous définissions des variables pouvant être communes à plusieurs modèles, afin de préparer leur potentielle future utilisation.\n",
        "\n",
        "Enfin, les données en X nécessitent d'être \"scalées\" pour y appliquer les modèles, ce que nous faisons. Nous avons également essayé d'effectuer une PCA pour réduire le nombre de variables, mais plusieurs tests ont montré que cela n'était pas nécessaire voire baissait la qualité des modèles calculés : nous n'en utilisons donc pas ici.\n",
        "\n",
        "\n",
        "\n",
        "\n",
        "\n",
        "\n"
      ]
    },
    {
      "cell_type": "code",
      "metadata": {
        "id": "JiK61cAdtgZB",
        "colab_type": "code",
        "colab": {}
      },
      "source": [
        "# Préparation des variables d'application des modèles \n",
        "\n",
        "masque=(data[\"Year\"]==2016)\n",
        "datamodel=data[masque]\n",
        "\n",
        "datamodel=datamodel.drop([\"Location\",\"BuildingType\",\"PropertyName\",\"Year\"], axis=1)\n",
        "for column in datamodel:\n",
        "  masque=(datamodel[column].notna())\n",
        "  datamodel=datamodel[masque]\n",
        "\n",
        "# Choix de notre échantillon\n",
        "\n",
        "X=datamodel\n",
        "y=X[\"GHGEmissionsIntensity\"]\n",
        "Xdata=X.drop(['SiteEUIWN(kBtu/sf)', 'SiteEnergyUseWN(kBtu)','TotalGHGEmissions','GHGEmissionsIntensity',\"ID\"],axis=1)\n",
        "\n",
        "datatest=Xdata.iloc[1:5,:]\n",
        "\n",
        "y_binned=pd.qcut(y, 4)\n",
        "Xtrain, Xtest, Ytrain, Ytest = train_test_split(Xdata,y, train_size=0.8, stratify=y_binned,random_state=1)"
      ],
      "execution_count": 0,
      "outputs": []
    },
    {
      "cell_type": "code",
      "metadata": {
        "id": "Uci4XzZOFT4T",
        "colab_type": "code",
        "outputId": "43ff1f45-5913-488c-d77b-633f6da13a39",
        "colab": {
          "base_uri": "https://localhost:8080/",
          "height": 1000
        }
      },
      "source": [
        "for i in datatest :\n",
        "  print (i)\n",
        "print (len(data))\n",
        "print (len(datatest.columns))\n",
        "\n",
        "for x in datatest.itertuples():\n",
        "    print(x)"
      ],
      "execution_count": 36,
      "outputs": [
        {
          "output_type": "stream",
          "text": [
            "ENERGYSTARScore\n",
            "ElectricityTauxConsom\n",
            "GFA\n",
            "NaturalGasTauxConsom\n",
            "OtherFuelUseTauxConsom\n",
            "SteamUseTauxConsom\n",
            "YearBuilt\n",
            "BuildingsLN\n",
            "FloorsLN\n",
            "Neighborhood_BALLARD\n",
            "Neighborhood_CENTRAL\n",
            "Neighborhood_DELRIDGE\n",
            "Neighborhood_DOWNTOWN\n",
            "Neighborhood_EAST\n",
            "Neighborhood_GREATER DUWAMISH\n",
            "Neighborhood_LAKE UNION\n",
            "Neighborhood_MAGNOLIA / QUEEN ANNE\n",
            "Neighborhood_NORTH\n",
            "Neighborhood_NORTHEAST\n",
            "Neighborhood_NORTHWEST\n",
            "Neighborhood_SOUTHEAST\n",
            "Neighborhood_SOUTHWEST\n",
            "CouncilDistrictCode_1\n",
            "CouncilDistrictCode_2\n",
            "CouncilDistrictCode_3\n",
            "CouncilDistrictCode_4\n",
            "CouncilDistrictCode_5\n",
            "CouncilDistrictCode_6\n",
            "CouncilDistrictCode_7\n",
            "_Adult Education\n",
            "_Automobile Dealership\n",
            "_Bank Branch\n",
            "_College/University\n",
            "_Convention Center\n",
            "_Courthouse\n",
            "_Data Center\n",
            "_Distribution Center\n",
            "_Financial Office\n",
            "_Fire Station\n",
            "_Fitness Center/Health Club/Gym\n",
            "_Food Service\n",
            "_Hospital (General Medical & Surgical)\n",
            "_Hotel\n",
            "_K-12 School\n",
            "_Laboratory\n",
            "_Library\n",
            "_Lifestyle Center\n",
            "_Manufacturing/Industrial Plant\n",
            "_Medical Office\n",
            "_Movie Theater\n",
            "_Multifamily Housing\n",
            "_Museum\n",
            "_Non-Refrigerated Warehouse\n",
            "_Office\n",
            "_Other\n",
            "_Other - Education\n",
            "_Other - Entertainment/Public Assembly\n",
            "_Other - Lodging/Residential\n",
            "_Other - Mall\n",
            "_Other - Public Services\n",
            "_Other - Recreation\n",
            "_Other - Restaurant/Bar\n",
            "_Other - Services\n",
            "_Other - Utility\n",
            "_Other/Specialty Hospital\n",
            "_Outpatient Rehabilitation/Physical Therapy\n",
            "_Parking\n",
            "_Performing Arts\n",
            "_Personal Services (Health/Beauty, Dry Cleaning, etc)\n",
            "_Police Station\n",
            "_Pre-school/Daycare\n",
            "_Prison/Incarceration\n",
            "_Refrigerated Warehouse\n",
            "_Repair Services (Vehicle, Shoe, Locksmith, etc)\n",
            "_Residence Hall/Dormitory\n",
            "_Residential Care Facility\n",
            "_Restaurant\n",
            "_Retail Store\n",
            "_Self-Storage Facility\n",
            "_Senior Care Community\n",
            "_Social/Meeting Hall\n",
            "_Strip Mall\n",
            "_Supermarket/Grocery Store\n",
            "_Urgent Care/Clinic/Other Outpatient\n",
            "_Wholesale Club/Supercenter\n",
            "_Worship Facility\n",
            "_Bar/Nightclub\n",
            "_Convenience Store without Gas Station\n",
            "_Enclosed Mall\n",
            "_Food Sales\n",
            "_Swimming Pool\n",
            "_Vocational School\n",
            "_Fast Food Restaurant\n",
            "_Other - Technology/Science\n",
            "3318\n",
            "94\n",
            "Pandas(Index=1654, ENERGYSTARScore=75.0, ElectricityTauxConsom=36.62952206266393, GFA=175580, NaturalGasTauxConsom=60.06888546333325, OtherFuelUseTauxConsom=0.0, SteamUseTauxConsom=0.0, YearBuilt=1980, BuildingsLN=0.6931471805599453, FloorsLN=2.9444389791664403, Neighborhood_BALLARD=0, Neighborhood_CENTRAL=0, Neighborhood_DELRIDGE=0, Neighborhood_DOWNTOWN=1, Neighborhood_EAST=0, _15=0, _16=0, _17=0, Neighborhood_NORTH=0, Neighborhood_NORTHEAST=0, Neighborhood_NORTHWEST=0, Neighborhood_SOUTHEAST=0, Neighborhood_SOUTHWEST=0, CouncilDistrictCode_1=0, CouncilDistrictCode_2=0, CouncilDistrictCode_3=0, CouncilDistrictCode_4=0, CouncilDistrictCode_5=0, CouncilDistrictCode_6=0, CouncilDistrictCode_7=1, _30=0.0, _31=0.0, _32=0.0, _33=0.0, _34=0.0, _35=0.0, _36=0.0, _37=0.0, _38=0.0, _39=0.0, _40=0.0, _41=0.0, _42=0.0, _43=0.6447762909106104, _44=0.0, _45=0.0, _46=0.0, _47=0.0, _48=0.0, _49=0.0, _50=0.0, _51=0.0, _52=0.0, _53=0.0, _54=0.0, _55=0.0, _56=0.0, _57=0.0, _58=0.0, _59=0.0, _60=0.0, _61=0.0, _62=0.0, _63=0.0, _64=0.0, _65=0.0, _66=0.0, _67=0.3552237090893896, _68=0.0, _69=0.0, _70=0.0, _71=0.0, _72=0.0, _73=0.0, _74=0.0, _75=0.0, _76=0.0, _77=0.0, _78=0.0, _79=0.0, _80=0.0, _81=0.0, _82=0.0, _83=0.0, _84=0.0, _85=0.0, _86=0.0, _87=0.0, _88=0.0, _89=0.0, _90=0.0, _91=0.0, _92=0.0, _93=0.0, _94=0.0)\n",
            "Pandas(Index=1684, ENERGYSTARScore=8.0, ElectricityTauxConsom=31.906671334100924, GFA=494835, NaturalGasTauxConsom=63.16799140015089, OtherFuelUseTauxConsom=0.0, SteamUseTauxConsom=0.0, YearBuilt=1992, BuildingsLN=0.6931471805599453, FloorsLN=1.3862943611198906, Neighborhood_BALLARD=0, Neighborhood_CENTRAL=0, Neighborhood_DELRIDGE=0, Neighborhood_DOWNTOWN=0, Neighborhood_EAST=0, _15=1, _16=0, _17=0, Neighborhood_NORTH=0, Neighborhood_NORTHEAST=0, Neighborhood_NORTHWEST=0, Neighborhood_SOUTHEAST=0, Neighborhood_SOUTHWEST=0, CouncilDistrictCode_1=0, CouncilDistrictCode_2=1, CouncilDistrictCode_3=0, CouncilDistrictCode_4=0, CouncilDistrictCode_5=0, CouncilDistrictCode_6=0, CouncilDistrictCode_7=0, _30=0.0, _31=0.0, _32=0.0, _33=0.0, _34=0.0, _35=0.0, _36=0.0, _37=0.0, _38=0.0, _39=0.0, _40=0.0, _41=0.0, _42=0.0, _43=0.0, _44=0.0, _45=0.34465930524272553, _46=0.0, _47=0.0, _48=0.0, _49=0.0, _50=0.0, _51=0.0, _52=0.0, _53=0.2476148620190811, _54=0.40772583273819335, _55=0.0, _56=0.0, _57=0.0, _58=0.0, _59=0.0, _60=0.0, _61=0.0, _62=0.0, _63=0.0, _64=0.0, _65=0.0, _66=0.0, _67=0.0, _68=0.0, _69=0.0, _70=0.0, _71=0.0, _72=0.0, _73=0.0, _74=0.0, _75=0.0, _76=0.0, _77=0.0, _78=0.0, _79=0.0, _80=0.0, _81=0.0, _82=0.0, _83=0.0, _84=0.0, _85=0.0, _86=0.0, _87=0.0, _88=0.0, _89=0.0, _90=0.0, _91=0.0, _92=0.0, _93=0.0, _94=0.0)\n",
            "Pandas(Index=1693, ENERGYSTARScore=78.0, ElectricityTauxConsom=99.99998951359986, GFA=168115, NaturalGasTauxConsom=0.0, OtherFuelUseTauxConsom=0.0, SteamUseTauxConsom=0.0, YearBuilt=1973, BuildingsLN=0.6931471805599453, FloorsLN=1.791759469228055, Neighborhood_BALLARD=0, Neighborhood_CENTRAL=0, Neighborhood_DELRIDGE=0, Neighborhood_DOWNTOWN=1, Neighborhood_EAST=0, _15=0, _16=0, _17=0, Neighborhood_NORTH=0, Neighborhood_NORTHEAST=0, Neighborhood_NORTHWEST=0, Neighborhood_SOUTHEAST=0, Neighborhood_SOUTHWEST=0, CouncilDistrictCode_1=0, CouncilDistrictCode_2=0, CouncilDistrictCode_3=0, CouncilDistrictCode_4=0, CouncilDistrictCode_5=0, CouncilDistrictCode_6=0, CouncilDistrictCode_7=1, _30=0.0, _31=0.0, _32=0.0, _33=0.0, _34=0.0, _35=0.0, _36=0.002908022721508161, _37=0.0, _38=0.0, _39=0.0, _40=0.0, _41=0.0, _42=0.0, _43=0.0, _44=0.0, _45=0.0, _46=0.0, _47=0.0, _48=0.0, _49=0.0, _50=0.0, _51=0.0, _52=0.0, _53=0.0, _54=0.6096938023134412, _55=0.0, _56=0.0, _57=0.0, _58=0.0, _59=0.0, _60=0.0, _61=0.0, _62=0.0, _63=0.0, _64=0.0, _65=0.0, _66=0.0, _67=0.0, _68=0.0, _69=0.0, _70=0.0, _71=0.0, _72=0.0, _73=0.0, _74=0.0, _75=0.0, _76=0.0, _77=0.0, _78=0.3873981749650505, _79=0.0, _80=0.0, _81=0.0, _82=0.0, _83=0.0, _84=0.0, _85=0.0, _86=0.0, _87=0.0, _88=0.0, _89=0.0, _90=0.0, _91=0.0, _92=0.0, _93=0.0, _94=0.0)\n",
            "Pandas(Index=1697, ENERGYSTARScore=71.0, ElectricityTauxConsom=84.469667733582, GFA=98634, NaturalGasTauxConsom=10.854655888301526, OtherFuelUseTauxConsom=0.0, SteamUseTauxConsom=0.0, YearBuilt=1930, BuildingsLN=0.6931471805599453, FloorsLN=3.0445224377234235, Neighborhood_BALLARD=0, Neighborhood_CENTRAL=0, Neighborhood_DELRIDGE=0, Neighborhood_DOWNTOWN=1, Neighborhood_EAST=0, _15=0, _16=0, _17=0, Neighborhood_NORTH=0, Neighborhood_NORTHEAST=0, Neighborhood_NORTHWEST=0, Neighborhood_SOUTHEAST=0, Neighborhood_SOUTHWEST=0, CouncilDistrictCode_1=0, CouncilDistrictCode_2=0, CouncilDistrictCode_3=0, CouncilDistrictCode_4=0, CouncilDistrictCode_5=0, CouncilDistrictCode_6=0, CouncilDistrictCode_7=1, _30=0.0, _31=0.0, _32=0.0, _33=0.0, _34=0.0, _35=0.0, _36=0.0, _37=0.0, _38=0.0, _39=0.0, _40=0.0, _41=0.0, _42=0.0, _43=0.8474866678832856, _44=0.0, _45=0.0, _46=0.0, _47=0.0, _48=0.0, _49=0.0, _50=0.0, _51=0.0, _52=0.0, _53=0.0, _54=0.0, _55=0.0, _56=0.0, _57=0.0, _58=0.0, _59=0.0, _60=0.0, _61=0.0, _62=0.0, _63=0.0, _64=0.0, _65=0.0, _66=0.0, _67=0.10182087312691364, _68=0.0, _69=0.0, _70=0.0, _71=0.0, _72=0.0, _73=0.0, _74=0.0, _75=0.0, _76=0.0, _77=0.05069245898980068, _78=0.0, _79=0.0, _80=0.0, _81=0.0, _82=0.0, _83=0.0, _84=0.0, _85=0.0, _86=0.0, _87=0.0, _88=0.0, _89=0.0, _90=0.0, _91=0.0, _92=0.0, _93=0.0, _94=0.0)\n"
          ],
          "name": "stdout"
        }
      ]
    },
    {
      "cell_type": "code",
      "metadata": {
        "id": "_hl8yRnKt4Re",
        "colab_type": "code",
        "outputId": "4d30e098-4505-4645-ef12-8994ccb68318",
        "colab": {
          "base_uri": "https://localhost:8080/",
          "height": 255
        }
      },
      "source": [
        "sel = RandomForestRegressor()\n",
        "sel.fit(Xtrain, Ytrain)\n",
        "feature_importances = pd.DataFrame(sel.feature_importances_,index = Xtrain.columns,columns=['importance']).sort_values('importance',ascending=False)\n",
        "print (feature_importances)"
      ],
      "execution_count": 37,
      "outputs": [
        {
          "output_type": "stream",
          "text": [
            "                             importance\n",
            "_Laboratory                    0.629976\n",
            "ElectricityTauxConsom          0.201073\n",
            "ENERGYSTARScore                0.039901\n",
            "_Parking                       0.023819\n",
            "YearBuilt                      0.019378\n",
            "...                                 ...\n",
            "_Automobile Dealership         0.000000\n",
            "_Performing Arts               0.000000\n",
            "_Adult Education               0.000000\n",
            "_Police Station                0.000000\n",
            "_Other - Technology/Science    0.000000\n",
            "\n",
            "[94 rows x 1 columns]\n"
          ],
          "name": "stdout"
        }
      ]
    },
    {
      "cell_type": "code",
      "metadata": {
        "id": "tshOAa6Xt8nG",
        "colab_type": "code",
        "outputId": "791d9417-bb97-4227-9288-b1298ee5ca5b",
        "colab": {
          "base_uri": "https://localhost:8080/",
          "height": 34
        }
      },
      "source": [
        "Xtrain=Xtrain.values\n",
        "Xtest=Xtest.values\n",
        "\n",
        "\n",
        "n_alphas = 300\n",
        "alphas = np.logspace(-4, 4, n_alphas)\n",
        "print (\"Alphas entre \",min(alphas),\" et \",max(alphas))\n",
        "\n",
        "folds= KFold(n_splits=5,shuffle=False)\n",
        "\n",
        "C_range = np.logspace(-2, 3, 6)\n",
        "gamma_range = np.logspace(-2, 1, 4)"
      ],
      "execution_count": 38,
      "outputs": [
        {
          "output_type": "stream",
          "text": [
            "Alphas entre  0.0001  et  10000.0\n"
          ],
          "name": "stdout"
        }
      ]
    },
    {
      "cell_type": "code",
      "metadata": {
        "id": "6tjVAnszr9Jv",
        "colab_type": "code",
        "colab": {}
      },
      "source": [
        "std_scale = preprocessing.StandardScaler().fit(Xtrain)\n",
        "Xtrain_scaled = std_scale.transform(Xtrain)\n",
        "Xtest_scaled= std_scale.transform(Xtest)"
      ],
      "execution_count": 0,
      "outputs": []
    },
    {
      "cell_type": "code",
      "metadata": {
        "id": "mvoRVXQ6uRmw",
        "colab_type": "code",
        "outputId": "74a22ff5-8b58-43ce-cbd4-3299db33caff",
        "colab": {
          "base_uri": "https://localhost:8080/",
          "height": 54
        }
      },
      "source": [
        "'''\n",
        "pca = PCA(n_components=None)\n",
        "pca.fit(Xtrain_scaled)\n",
        "print (\"Variance expliquée sur les données complètes de consommations d'énergie : \",np.cumsum(pca.explained_variance_ratio_))\n",
        "\n",
        "x=np.cumsum(pca.explained_variance_ratio_)\n",
        "y=range(0,len(x))\n",
        "sns.set()\n",
        "plt.plot(x,y)\n",
        "plt.xlabel(\"Variance expliquée\")\n",
        "plt.ylabel(\"Nombre de variables\")\n",
        "plt.show()\n",
        "\n",
        "sns.set()\n",
        "plt.plot(x,y)\n",
        "plt.xlabel(\"Variance expliquée\")\n",
        "plt.ylabel(\"Nombre de variables\")\n",
        "plt.xlim(0.80,1.0)\n",
        "plt.ylim(30,60)\n",
        "plt.show()\n",
        "\n",
        "pca_final=PCA(n_components=0.94) \n",
        "Xtrain_projected = pca_final.fit_transform(Xtrain_scaled) # Projection de notre X sur les PCs\n",
        "Xtest_projected = pca_final.transform(Xtest_scaled)\n",
        "'''"
      ],
      "execution_count": 40,
      "outputs": [
        {
          "output_type": "execute_result",
          "data": {
            "text/plain": [
              "'\\npca = PCA(n_components=None)\\npca.fit(Xtrain_scaled)\\nprint (\"Variance expliquée sur les données complètes de consommations d\\'énergie : \",np.cumsum(pca.explained_variance_ratio_))\\n\\nx=np.cumsum(pca.explained_variance_ratio_)\\ny=range(0,len(x))\\nsns.set()\\nplt.plot(x,y)\\nplt.xlabel(\"Variance expliquée\")\\nplt.ylabel(\"Nombre de variables\")\\nplt.show()\\n\\nsns.set()\\nplt.plot(x,y)\\nplt.xlabel(\"Variance expliquée\")\\nplt.ylabel(\"Nombre de variables\")\\nplt.xlim(0.80,1.0)\\nplt.ylim(30,60)\\nplt.show()\\n\\npca_final=PCA(n_components=0.94) \\nXtrain_projected = pca_final.fit_transform(Xtrain_scaled) # Projection de notre X sur les PCs\\nXtest_projected = pca_final.transform(Xtest_scaled)\\n'"
            ]
          },
          "metadata": {
            "tags": []
          },
          "execution_count": 40
        }
      ]
    },
    {
      "cell_type": "markdown",
      "metadata": {
        "id": "lR8eoeSIua7r",
        "colab_type": "text"
      },
      "source": [
        "<h3>k-NN</h3>\n",
        "\n",
        "Nous commençons par tester le k Nearest Neighbors (ou k-NN) qui va calculer les valeurs recherchées en utilisant les k données voisines les plus proches. Pour cela, pour harmoniser tous les modèles, nous utilisons le GridSearchCV qui permet en même temps une cross-validation donc des résultats plus fiables. \n",
        "\n",
        "Pour le k-NN, il n'existe qu'un unique hyper-paramètre sur lequel nous pouvons jouer pour optimiser notre modèle : le nombre de voisins à sélectionner pour chacune des valeurs à calculer. Nous choisissons un intervalle assez grand pour ce paramètre, vu que nous testons le modèle pour un nombre allant de 1 à 30. \n",
        "\n",
        "Une fois le calcul effectué, nous visualisons le nombre de voisins pour lequel les résultats sont optimaux.\n",
        "\n",
        "Nous avons aussi enregistré plusieurs valeurs, comme pour chacun des modèles que nous calculerons, et en double (le train et le test), afin de comparer l'efficacité de tous les modèles testés ici :\n",
        "- le temps d'exécution du modèle (entre le tout début et la fin des predicts)\n",
        "- le score : ici, nous utiliserons le R2\n",
        "- la RMSE : racine carrée du carré moyen des erreurs, qui doit être la plus basse possible \n",
        "- la MAE : moyenne arithmétique des valeurs absolues des écarts\n",
        "\n",
        "Nous affichons enfin graphiquement les scores R2 du train et du test selon le nombre de voisins utilisés."
      ]
    },
    {
      "cell_type": "code",
      "metadata": {
        "id": "4EXkypTguZmc",
        "colab_type": "code",
        "outputId": "1965f74b-5a78-4379-883a-316a92280211",
        "colab": {
          "base_uri": "https://localhost:8080/",
          "height": 34
        }
      },
      "source": [
        "start_time=time.time()\n",
        "\n",
        "# k-NN de régression\n",
        "parameters = {'n_neighbors': list(range(1,30))}\n",
        "\n",
        "model=neighbors.KNeighborsRegressor()\n",
        "knnreg = GridSearchCV(cv=folds, estimator=model,param_grid=parameters,return_train_score=True)\n",
        "knnreg.fit(Xtrain_scaled,Ytrain)\n",
        "\n",
        "knntime=time.time()-start_time\n",
        "\n",
        "resknn = knnreg.cv_results_\n",
        "k_knn = resknn['param_n_neighbors']\n",
        "train_score_knn = resknn['mean_train_score']\n",
        "test_score_knn = resknn['mean_test_score']\n",
        "\n",
        "print (\"Meilleur(s) hyperparamètre(s) sur le jeu d'entraînement:\",knnreg.best_params_)\n"
      ],
      "execution_count": 41,
      "outputs": [
        {
          "output_type": "stream",
          "text": [
            "Meilleur(s) hyperparamètre(s) sur le jeu d'entraînement: {'n_neighbors': 5}\n"
          ],
          "name": "stdout"
        }
      ]
    },
    {
      "cell_type": "code",
      "metadata": {
        "id": "Io2c1Zkhuiqa",
        "colab_type": "code",
        "outputId": "00474ba8-0111-4d54-b2d5-e6ca2d7ee4c2",
        "colab": {
          "base_uri": "https://localhost:8080/",
          "height": 153
        }
      },
      "source": [
        "print (\"Valeurs pour le k-NN sur le train\")\n",
        "knnpredtrain= knnreg.predict(Xtrain_scaled)\n",
        "knnpredtrainrmse=np.sqrt(mean_squared_error(Ytrain,knnpredtrain))\n",
        "print(\"RMSE = \",knnpredtrainrmse)\n",
        "knnpredtrainr2=r2_score(Ytrain, knnpredtrain)\n",
        "print(\"R2 score = \",knnpredtrainr2)\n",
        "knnpredtrainmae= mean_absolute_error(Ytrain,knnpredtrain)\n",
        "print (\"MAE :\", knnpredtrainmae)\n",
        "\n",
        "print (\"Valeurs pour le k-NN sur le test\")\n",
        "knnpredtest= knnreg.predict(Xtest_scaled)\n",
        "knnpredtestrmse=np.sqrt(mean_squared_error(Ytest,knnpredtest))\n",
        "print(\"RMSE = \",knnpredtestrmse)\n",
        "knnpredtestr2=r2_score(Ytest, knnpredtest)\n",
        "print(\"R2 score = \",knnpredtestr2)\n",
        "knnpredtestmae= mean_absolute_error(Ytest,knnpredtest)\n",
        "print (\"MAE :\", knnpredtestmae)\n",
        "\n",
        "knnstats=[\"k-NN\",knnpredtrainr2,knnpredtrainrmse,knnpredtrainmae,knnpredtestr2,knnpredtestrmse,knnpredtestmae,knntime]"
      ],
      "execution_count": 42,
      "outputs": [
        {
          "output_type": "stream",
          "text": [
            "Valeurs pour le k-NN sur le train\n",
            "RMSE =  2.386774359622207\n",
            "R2 score =  0.40631098384768116\n",
            "MAE : 0.624046875\n",
            "Valeurs pour le k-NN sur le test\n",
            "RMSE =  0.5168905831991911\n",
            "R2 score =  0.5413670304653837\n",
            "MAE : 0.3530625\n"
          ],
          "name": "stdout"
        }
      ]
    },
    {
      "cell_type": "code",
      "metadata": {
        "id": "0M1pYzSbunQ3",
        "colab_type": "code",
        "outputId": "59bb235e-0ae6-4c6c-e72c-a65d36cd254a",
        "colab": {
          "base_uri": "https://localhost:8080/",
          "height": 325
        }
      },
      "source": [
        "df_score = pd.DataFrame(dict(k=k_knn, test=test_score_knn, train=train_score_knn))\n",
        "ax = df_score.plot(x='k', y='train', figsize=(6, 4))\n",
        "df_score.plot(x='k', y='test', ax=ax, grid=True)\n",
        "ax.set_title(\"Evolution de la performance sur\\nles bases d'apprentissage et de test \\nen fonction du nombre de voisins\")\n",
        "ax.set_ylabel(\"r2\");"
      ],
      "execution_count": 43,
      "outputs": [
        {
          "output_type": "display_data",
          "data": {
            "image/png": "[encoded data removed]",
            "text/plain": [
              "<Figure size 432x288 with 1 Axes>"
            ]
          },
          "metadata": {
            "tags": []
          }
        }
      ]
    },
    {
      "cell_type": "markdown",
      "metadata": {
        "id": "SeL71zheuyDL",
        "colab_type": "text"
      },
      "source": [
        "<h3>Régression \"dummy\"</h3>\n",
        "\n",
        "Nous testons le dummy regressor (dans le GridSearchCV) qui va nous servir de comparateur pour les autres modèles, comme modèle obtenant les pires résultats. \n",
        "\n",
        "Pour le dummy regressor, il n'existe qu'un unique hyper-paramètre sur lequel nous pouvons jouer pour optimiser notre modèle : la stratégie utilisée pour faire le calcul. Ici, nous en sélectionnons deux différentes : la moyenne (les résultats sont égaux à la moyenne de l'échantillon train) et la médiane (les résultats sont égaux à la médiane de l'échantillon train)\n",
        "\n",
        "Une fois le calcul effectué, nous visualisons la stratégie pour laquelle les résultats sont \"optimaux\".\n",
        "\n",
        "Nous avons aussi enregistré plusieurs valeurs, comme pour chacun des modèles que nous calculerons, et en double (le train et le test), afin de comparer l'efficacité de tous les modèles testés ici : \n",
        "- le temps d'exécution du modèle (entre le tout début et la fin des predicts)\n",
        "- le score : ici, nous utiliserons le R2\n",
        "- la RMSE : racine carrée du carré moyen des erreurs, qui doit être la plus basse possible \n",
        "- la MAE : moyenne arithmétique des valeurs absolues des écarts"
      ]
    },
    {
      "cell_type": "code",
      "metadata": {
        "id": "-NOpSXaeu1YP",
        "colab_type": "code",
        "outputId": "87e21a6a-043b-42b2-920d-11e89767de41",
        "colab": {
          "base_uri": "https://localhost:8080/",
          "height": 34
        }
      },
      "source": [
        "start_time=time.time()\n",
        "\n",
        "parameters = {'strategy':[\"mean\",\"median\"]}\n",
        "\n",
        "model = dummy.DummyRegressor()\n",
        "du=GridSearchCV(cv=folds, estimator=model,param_grid=parameters,return_train_score=True)\n",
        "du.fit(Xtrain_scaled,Ytrain)\n",
        "\n",
        "dutime=time.time()-start_time\n",
        "\n",
        "resdu = du.cv_results_\n",
        "train_score_du = resdu['mean_train_score']\n",
        "test_score_du = resdu['mean_test_score']\n",
        "\n",
        "print (\"Meilleur(s) hyperparamètre(s) sur le jeu d'entraînement:\",du.best_params_)"
      ],
      "execution_count": 44,
      "outputs": [
        {
          "output_type": "stream",
          "text": [
            "Meilleur(s) hyperparamètre(s) sur le jeu d'entraînement: {'strategy': 'median'}\n"
          ],
          "name": "stdout"
        }
      ]
    },
    {
      "cell_type": "code",
      "metadata": {
        "id": "5W28cBuKu7EV",
        "colab_type": "code",
        "outputId": "7a24d63a-98e2-4631-cd68-1e0e6e448533",
        "colab": {
          "base_uri": "https://localhost:8080/",
          "height": 153
        }
      },
      "source": [
        "print (\"Valeurs pour le dummy regressor sur le train\")\n",
        "dupredtrain= du.predict(Xtrain_scaled)\n",
        "dupredtrainrmse=np.sqrt(mean_squared_error(Ytrain,dupredtrain))\n",
        "print(\"RMSE = \",dupredtrainrmse)\n",
        "dupredtrainr2=r2_score(Ytrain, dupredtrain)\n",
        "print(\"R2 score = \",dupredtrainr2)\n",
        "dupredtrainmae= mean_absolute_error(Ytrain,dupredtrain)\n",
        "print (\"MAE :\", dupredtrainmae)\n",
        "\n",
        "print (\"Valeurs pour le dummy regressor sur le test\")\n",
        "dupredtest= du.predict(Xtest_scaled)\n",
        "dupredtestrmse=np.sqrt(mean_squared_error(Ytest,dupredtest))\n",
        "print(\"RMSE = \",dupredtestrmse)\n",
        "dupredtestr2=r2_score(Ytest, dupredtest)\n",
        "print(\"R2 score = \",dupredtestr2)\n",
        "dupredtestmae= mean_absolute_error(Ytest,dupredtest)\n",
        "print (\"MAE :\", dupredtestmae)\n",
        "\n",
        "dustats=[\"Dummy regressor\",dupredtrainr2,dupredtrainrmse,dupredtrainmae,dupredtestr2,dupredtestrmse,dupredtestmae,dutime]"
      ],
      "execution_count": 45,
      "outputs": [
        {
          "output_type": "stream",
          "text": [
            "Valeurs pour le dummy regressor sur le train\n",
            "RMSE =  3.15916103380312\n",
            "R2 score =  -0.040111300169167086\n",
            "MAE : 0.8785156250000001\n",
            "Valeurs pour le dummy regressor sur le test\n",
            "RMSE =  0.8211234681824653\n",
            "R2 score =  -0.15740395068475221\n",
            "MAE : 0.5434375\n"
          ],
          "name": "stdout"
        }
      ]
    },
    {
      "cell_type": "markdown",
      "metadata": {
        "id": "Z2VhLuNAvQeB",
        "colab_type": "text"
      },
      "source": [
        "<h3>Régression linéaire</h3>\n",
        "\n",
        "Nous testons ensuite la régression linéaire (dans le GridSearchCV) qui permet de contraindre les données à une forme de droite\n",
        "\n",
        "Pour la régression linéaire, il existe deux hyper-paramètres sur lequel nous pouvons jouer pour optimiser notre modèle : \n",
        "- \"fit_intercept\" afin de savoir si on utilise ou non l'ordonnée à l'origine\n",
        "- \"normalize\" afin de normaliser ou non le X avant la régression \n",
        "\n",
        "Une fois le calcul effectué, nous visualisons les hyperparamètres pour lesquels les résultats sont \"optimaux\".\n",
        "\n",
        "Nous avons aussi enregistré plusieurs valeurs, comme pour chacun des modèles que nous calculerons, et en double (le train et le test), afin de comparer l'efficacité de tous les modèles testés ici : \n",
        "- le temps d'exécution du modèle (entre le tout début et la fin des predicts)\n",
        "- le score : ici, nous utiliserons le R2\n",
        "- la RMSE : racine carrée du carré moyen des erreurs, qui doit être la plus basse possible \n",
        "- la MAE : moyenne arithmétique des valeurs absolues des écarts"
      ]
    },
    {
      "cell_type": "code",
      "metadata": {
        "id": "jfRiJnhjvUH_",
        "colab_type": "code",
        "outputId": "4a7c9055-2cd0-4ba7-afc0-892ccffb7abe",
        "colab": {
          "base_uri": "https://localhost:8080/",
          "height": 34
        }
      },
      "source": [
        "start_time=time.time()\n",
        "\n",
        "parameters = {'fit_intercept':[True,False],'normalize':[True,False]}\n",
        "\n",
        "model=linear_model.LinearRegression()\n",
        "lr = GridSearchCV(cv=folds, estimator=model,param_grid=parameters,return_train_score=True)\n",
        "lr.fit(Xtrain_scaled,Ytrain)\n",
        "\n",
        "lrtime=time.time()-start_time\n",
        "\n",
        "reslr = lr.cv_results_\n",
        "train_score_lr = reslr['mean_train_score']\n",
        "test_score_lr = reslr['mean_test_score']\n",
        "\n",
        "print (\"Meilleur(s) hyperparamètre(s) sur le jeu d'entraînement:\",lr.best_params_)"
      ],
      "execution_count": 46,
      "outputs": [
        {
          "output_type": "stream",
          "text": [
            "Meilleur(s) hyperparamètre(s) sur le jeu d'entraînement: {'fit_intercept': False, 'normalize': True}\n"
          ],
          "name": "stdout"
        }
      ]
    },
    {
      "cell_type": "code",
      "metadata": {
        "id": "ZzgU7fuNvXsr",
        "colab_type": "code",
        "outputId": "7c1c1359-f095-40a2-8829-7c6b187370c5",
        "colab": {
          "base_uri": "https://localhost:8080/",
          "height": 153
        }
      },
      "source": [
        "print (\"Valeurs pour la régression linéaire sur le train\")\n",
        "lrpredtrain= lr.predict(Xtrain_scaled)\n",
        "lrpredtrainrmse=np.sqrt(mean_squared_error(Ytrain,lrpredtrain))\n",
        "print(\"RMSE = \",lrpredtrainrmse)\n",
        "lrpredtrainr2=r2_score(Ytrain, lrpredtrain)\n",
        "print(\"R2 score = \",lrpredtrainr2)\n",
        "lrpredtrainmae= mean_absolute_error(Ytrain,lrpredtrain)\n",
        "print (\"MAE :\", lrpredtrainmae)\n",
        "\n",
        "print (\"Valeurs pour la régression linéaire sur le test\")\n",
        "lrpredtest= lr.predict(Xtest_scaled)\n",
        "lrpredtestrmse=np.sqrt(mean_squared_error(Ytest,lrpredtest))\n",
        "print(\"RMSE = \",lrpredtestrmse)\n",
        "lrpredtestr2=r2_score(Ytest, lrpredtest)\n",
        "print(\"R2 score = \",lrpredtestr2)\n",
        "lrpredtestmae= mean_absolute_error(Ytest,lrpredtest)\n",
        "print (\"MAE :\", lrpredtestmae)\n",
        "\n",
        "lrstats=[\"Régression linéaire\",lrpredtrainr2,lrpredtrainrmse,lrpredtrainmae,lrpredtestr2,lrpredtestrmse,lrpredtestmae,lrtime]"
      ],
      "execution_count": 47,
      "outputs": [
        {
          "output_type": "stream",
          "text": [
            "Valeurs pour la régression linéaire sur le train\n",
            "RMSE =  1.6968383009906172\n",
            "R2 score =  0.6999337134655095\n",
            "MAE : 1.4169738858581988\n",
            "Valeurs pour la régression linéaire sur le test\n",
            "RMSE =  1.5576417997337804\n",
            "R2 score =  -3.16488694642689\n",
            "MAE : 1.4378911984372185\n"
          ],
          "name": "stdout"
        }
      ]
    },
    {
      "cell_type": "markdown",
      "metadata": {
        "id": "FyADOxPbvegZ",
        "colab_type": "text"
      },
      "source": [
        "<h3>Regression ridge</h3>\n",
        "\n",
        "Nous testons ensuite la regression ridge (dans le GridSearchCV) qui permet de restreindre l'amplitude des poids avec un effet de sélection groupée : les variables corrélées auront le même coefficient. Ainsi, les variables corrélées vont se combiner et se renforcer mutuellement.\n",
        "\n",
        "Pour la regression ridge, il existe trois hyper-paramètres sur lequel nous pouvons jouer pour optimiser notre modèle : \n",
        "- \"alpha\" qui est la force de régularisation, afin de réduire la variance des estimations\n",
        "- \"fit_intercept\" afin de savoir si on utilise ou non l'ordonnée à l'origine\n",
        "- \"normalize\" afin de normaliser ou non le X avant la régression \n",
        "\n",
        "Une fois le calcul effectué, nous visualisons les hyperparamètres pour lesquels les résultats sont \"optimaux\".\n",
        "\n",
        "Nous avons aussi enregistré plusieurs valeurs, comme pour chacun des modèles que nous calculerons, et en double (le train et le test), afin de comparer l'efficacité de tous les modèles testés ici : \n",
        "- le temps d'exécution du modèle (entre le tout début et la fin des predicts)\n",
        "- le score : ici, nous utiliserons le R2\n",
        "- la RMSE : racine carrée du carré moyen des erreurs, qui doit être la plus basse possible \n",
        "- la MAE : moyenne arithmétique des valeurs absolues des écarts"
      ]
    },
    {
      "cell_type": "code",
      "metadata": {
        "id": "7jUS5AhMvo_D",
        "colab_type": "code",
        "outputId": "25c7dd8a-2456-46f5-91c4-3f9791c773ad",
        "colab": {
          "base_uri": "https://localhost:8080/",
          "height": 34
        }
      },
      "source": [
        "start_time=time.time()\n",
        "\n",
        "parameters = {'alpha':alphas}\n",
        "\n",
        "model=Ridge()\n",
        "rid = GridSearchCV(cv=folds,estimator=model,param_grid=parameters,return_train_score=True)\n",
        "\n",
        "rid.fit(Xtrain_scaled,Ytrain)\n",
        "\n",
        "ridtime=time.time()-start_time\n",
        "\n",
        "res_rid = rid.cv_results_\n",
        "alpha_rid=res_rid[\"param_alpha\"]\n",
        "train_score_rid = res_rid['mean_train_score']\n",
        "test_score_rid = res_rid['mean_test_score']\n",
        "\n",
        "print (\"Meilleur(s) hyperparamètre(s) sur le jeu d'entraînement:\",rid.best_params_)"
      ],
      "execution_count": 48,
      "outputs": [
        {
          "output_type": "stream",
          "text": [
            "Meilleur(s) hyperparamètre(s) sur le jeu d'entraînement: {'alpha': 406.158598837698}\n"
          ],
          "name": "stdout"
        }
      ]
    },
    {
      "cell_type": "code",
      "metadata": {
        "id": "92wTO6s3vsBR",
        "colab_type": "code",
        "outputId": "27d75f60-7f5f-44e3-beb5-081188039fdd",
        "colab": {
          "base_uri": "https://localhost:8080/",
          "height": 153
        }
      },
      "source": [
        "print (\"Valeurs pour la regression ridge sur le train\")\n",
        "ridpredtrain= rid.predict(Xtrain_scaled)\n",
        "ridpredtrainrmse=np.sqrt(mean_squared_error(Ytrain,ridpredtrain))\n",
        "print(\"RMSE = \",ridpredtrainrmse)\n",
        "ridpredtrainr2=r2_score(Ytrain, ridpredtrain)\n",
        "print(\"R2 score = \",ridpredtrainr2)\n",
        "ridpredtrainmae= mean_absolute_error(Ytrain,ridpredtrain)\n",
        "print (\"MAE :\", ridpredtrainmae)\n",
        "\n",
        "print (\"Valeurs pour la regression ridge sur le test\")\n",
        "ridpredtest= rid.predict(Xtest_scaled)\n",
        "ridpredtestrmse=np.sqrt(mean_squared_error(Ytest,ridpredtest))\n",
        "print(\"RMSE = \",ridpredtestrmse)\n",
        "ridpredtestr2=r2_score(Ytest,ridpredtest)\n",
        "print(\"R2 score = \",ridpredtestr2)\n",
        "ridpredtestmae= mean_absolute_error(Ytest,ridpredtest)\n",
        "print (\"MAE :\", ridpredtestmae)\n",
        "\n",
        "ridstats=[\"Régression ridge\",ridpredtrainr2,ridpredtrainrmse,ridpredtrainmae,ridpredtestr2,ridpredtestrmse,ridpredtestmae,ridtime]"
      ],
      "execution_count": 49,
      "outputs": [
        {
          "output_type": "stream",
          "text": [
            "Valeurs pour la regression ridge sur le train\n",
            "RMSE =  2.335688556769802\n",
            "R2 score =  0.43145328743037314\n",
            "MAE : 0.7221227516927966\n",
            "Valeurs pour la regression ridge sur le test\n",
            "RMSE =  0.5235966940388911\n",
            "R2 score =  0.529389272516013\n",
            "MAE : 0.4144364141183937\n"
          ],
          "name": "stdout"
        }
      ]
    },
    {
      "cell_type": "code",
      "metadata": {
        "id": "rlIRHFPqwgTw",
        "colab_type": "code",
        "outputId": "07d589d7-47e3-40c1-b554-dedee19ea7c4",
        "colab": {
          "base_uri": "https://localhost:8080/",
          "height": 329
        }
      },
      "source": [
        "# Représentation graphique de la regression ridge\n",
        "\n",
        "df_score = pd.DataFrame(dict(alpha=alpha_rid, test=test_score_rid, train=train_score_rid))\n",
        "ax = df_score.plot(x='alpha', y='train', figsize=(6, 4))\n",
        "ax.set_xscale('log')\n",
        "df_score.plot(x='alpha', y='test', ax=ax, grid=True)\n",
        "ax.set_title(\"Evolution de la performance sur\\nles bases d'apprentissage et de test \\nen fonction du alpha\")\n",
        "ax.set_ylabel(\"r2\");"
      ],
      "execution_count": 65,
      "outputs": [
        {
          "output_type": "display_data",
          "data": {
            "image/png": "[encoded data removed]",
            "text/plain": [
              "<Figure size 432x288 with 1 Axes>"
            ]
          },
          "metadata": {
            "tags": []
          }
        }
      ]
    },
    {
      "cell_type": "code",
      "metadata": {
        "id": "8KRzNTylwjue",
        "colab_type": "code",
        "outputId": "8bf7daa3-6eb7-4617-a7d8-c5aac33256e5",
        "colab": {
          "base_uri": "https://localhost:8080/",
          "height": 299
        }
      },
      "source": [
        "baseline_error = np.mean((lr.predict(Xtest_scaled) - Ytest) ** 2)\n",
        "\n",
        "ridge = Ridge()\n",
        "\n",
        "coefs = []\n",
        "errors = []\n",
        "for a in alphas:\n",
        "    ridge.set_params(alpha=a)\n",
        "    ridge.fit(Xtrain_scaled, Ytrain)\n",
        "    coefs.append(ridge.coef_)\n",
        "    errors.append([baseline_error, np.mean((ridge.predict(Xtest_scaled) - Ytest) ** 2)])\n",
        "    \n",
        "ax = plt.gca()\n",
        "\n",
        "ax.plot(alphas, coefs)\n",
        "ax.set_xscale('log')\n",
        "plt.xlabel('alpha')\n",
        "plt.ylabel('weights')\n",
        "plt.title('Ridge coefficients as a function of the regularization')\n",
        "plt.axis('tight')\n",
        "plt.show()"
      ],
      "execution_count": 51,
      "outputs": [
        {
          "output_type": "display_data",
          "data": {
            "image/png": "[encoded data removed]",
            "text/plain": [
              "<Figure size 432x288 with 1 Axes>"
            ]
          },
          "metadata": {
            "tags": []
          }
        }
      ]
    },
    {
      "cell_type": "markdown",
      "metadata": {
        "id": "faQEw0hQwp9-",
        "colab_type": "text"
      },
      "source": [
        "<h3>Lasso</h3>\n",
        "\n",
        "Nous testons ensuite le lasso (dans le GridSearchCV) qui permet de réduire le nombre de variables : les variables qui auront un coefficient égal à zéro ne feront plus partie du modèle.\n",
        "\n",
        "Pour le lasso, il existe deux hyper-paramètres sur lequel nous pouvons jouer pour optimiser notre modèle : \n",
        "- \"alpha\" qui est la force de régularisation, afin de réduire la variance des estimations\n",
        "- \"normalize\" afin de normaliser ou non le X avant la régression \n",
        "\n",
        "Une fois le calcul effectué, nous visualisons les hyperparamètres pour lesquels les résultats sont \"optimaux\".\n",
        "\n",
        "Nous avons aussi enregistré plusieurs valeurs, comme pour chacun des modèles que nous calculerons, et en double (le train et le test), afin de comparer l'efficacité de tous les modèles testés ici : \n",
        "- le temps d'exécution du modèle (entre le tout début et la fin des predicts)\n",
        "- le score : ici, nous utiliserons le R2\n",
        "- la RMSE : racine carrée du carré moyen des erreurs, qui doit être la plus basse possible \n",
        "- la MAE : moyenne arithmétique des valeurs absolues des écarts"
      ]
    },
    {
      "cell_type": "code",
      "metadata": {
        "id": "hrwRzCsHwtTh",
        "colab_type": "code",
        "outputId": "ae34def3-ed94-47de-9330-b8bde0fcd013",
        "colab": {
          "base_uri": "https://localhost:8080/",
          "height": 34
        }
      },
      "source": [
        "start_time=time.time()\n",
        "\n",
        "parameters = {'alpha':alphas}\n",
        "\n",
        "model=Lasso()\n",
        "las = GridSearchCV(cv=folds, estimator=model,param_grid=parameters,return_train_score=True)\n",
        "las.fit(Xtrain_scaled,Ytrain)\n",
        "\n",
        "lastime=time.time()-start_time\n",
        "\n",
        "res_las = las.cv_results_\n",
        "alpha_las=res_las[\"param_alpha\"]\n",
        "train_score_las = res_las['mean_train_score']\n",
        "test_score_las = res_las['mean_test_score']\n",
        "\n",
        "print (\"Meilleur(s) hyperparamètre(s) sur le jeu d'entraînement:\",las.best_params_)\n"
      ],
      "execution_count": 52,
      "outputs": [
        {
          "output_type": "stream",
          "text": [
            "Meilleur(s) hyperparamètre(s) sur le jeu d'entraînement: {'alpha': 2.598458104929247}\n"
          ],
          "name": "stdout"
        }
      ]
    },
    {
      "cell_type": "code",
      "metadata": {
        "id": "hPQ0a3Jgwww2",
        "colab_type": "code",
        "outputId": "08aaebf8-f3df-46f8-a0de-ce81f91fd968",
        "colab": {
          "base_uri": "https://localhost:8080/",
          "height": 153
        }
      },
      "source": [
        "print (\"Valeurs pour le lasso sur le train\")\n",
        "laspredtrain= las.predict(Xtrain_scaled)\n",
        "laspredtrainrmse=np.sqrt(mean_squared_error(Ytrain,laspredtrain))\n",
        "print(\"RMSE = \",laspredtrainrmse)\n",
        "laspredtrainr2=r2_score(Ytrain, laspredtrain)\n",
        "print(\"R2 score = \",laspredtrainr2)\n",
        "laspredtrainmae= mean_absolute_error(Ytrain,laspredtrain)\n",
        "print (\"MAE :\", laspredtrainmae)\n",
        "\n",
        "print (\"Valeurs pour le lasso sur le test\")\n",
        "laspredtest= las.predict(Xtest_scaled)\n",
        "laspredtestrmse=np.sqrt(mean_squared_error(Ytest,laspredtest))\n",
        "print(\"RMSE = \",laspredtestrmse)\n",
        "laspredtestr2=r2_score(Ytest,laspredtest)\n",
        "print(\"R2 score = \",laspredtestr2)\n",
        "laspredtestmae= mean_absolute_error(Ytest,laspredtest)\n",
        "print (\"MAE :\", laspredtestmae)\n",
        "\n",
        "lasstats=[\"Lasso\",laspredtrainr2,laspredtrainrmse,laspredtrainmae,laspredtestr2,laspredtestrmse,laspredtestmae,lastime]"
      ],
      "execution_count": 53,
      "outputs": [
        {
          "output_type": "stream",
          "text": [
            "Valeurs pour le lasso sur le train\n",
            "RMSE =  3.07740116839033\n",
            "R2 score =  0.013028719748378936\n",
            "MAE : 1.0877958120046878\n",
            "Valeurs pour le lasso sur le test\n",
            "RMSE =  0.8252474133845297\n",
            "R2 score =  -0.16905885180364977\n",
            "MAE : 0.7281075387661617\n"
          ],
          "name": "stdout"
        }
      ]
    },
    {
      "cell_type": "code",
      "metadata": {
        "id": "yo2E8t_Yw2B9",
        "colab_type": "code",
        "outputId": "613bbac3-944d-457c-92b6-f7cde33a5443",
        "colab": {
          "base_uri": "https://localhost:8080/",
          "height": 329
        }
      },
      "source": [
        "#Représentation graphique du lasso\n",
        "\n",
        "df_score = pd.DataFrame(dict(alpha=alpha_las, test=test_score_las, train=train_score_las))\n",
        "ax = df_score.plot(x='alpha', y='train', figsize=(6, 4))\n",
        "ax.set_xscale('log')\n",
        "df_score.plot(x='alpha', y='test', ax=ax, grid=True)\n",
        "ax.set_title(\"Evolution de la performance sur\\nles bases d'apprentissage et de test \\nen fonction du alpha\")\n",
        "ax.set_ylabel(\"r2\");"
      ],
      "execution_count": 66,
      "outputs": [
        {
          "output_type": "display_data",
          "data": {
            "image/png": "[encoded data removed]",
            "text/plain": [
              "<Figure size 432x288 with 1 Axes>"
            ]
          },
          "metadata": {
            "tags": []
          }
        }
      ]
    },
    {
      "cell_type": "code",
      "metadata": {
        "id": "GgXlG7YWw5SH",
        "colab_type": "code",
        "outputId": "fa7bdddd-e4a0-43f9-a38c-73585a0b98d6",
        "colab": {
          "base_uri": "https://localhost:8080/",
          "height": 299
        }
      },
      "source": [
        "baseline_error = np.mean((lr.predict(Xtest_scaled) - Ytest) ** 2)\n",
        "\n",
        "lasso = Lasso()\n",
        "\n",
        "coefs = []\n",
        "errors = []\n",
        "for a in alphas:\n",
        "    lasso.set_params(alpha=a)\n",
        "    lasso.fit(Xtrain_scaled, Ytrain)\n",
        "    coefs.append(lasso.coef_)\n",
        "    errors.append([baseline_error, np.mean((lasso.predict(Xtest_scaled) - Ytest) ** 2)])\n",
        "    \n",
        "ax = plt.gca()\n",
        "\n",
        "ax.plot(alphas, coefs)\n",
        "ax.set_xscale('log')\n",
        "plt.xlabel('alpha')\n",
        "plt.ylabel('weights')\n",
        "plt.title('Lasso coefficients as a function of the regularization')\n",
        "plt.axis('tight')\n",
        "plt.show()"
      ],
      "execution_count": 55,
      "outputs": [
        {
          "output_type": "display_data",
          "data": {
            "image/png": "[encoded data removed]",
            "text/plain": [
              "<Figure size 432x288 with 1 Axes>"
            ]
          },
          "metadata": {
            "tags": []
          }
        }
      ]
    },
    {
      "cell_type": "markdown",
      "metadata": {
        "id": "5Mb9MNVRx24U",
        "colab_type": "text"
      },
      "source": [
        "<h3>SVR (Epsilon-Support Vector Regression)</h3>\n",
        "\n",
        "Nous testons ensuite le SVR (dans le GridSearchCV) qui permet de prédire une variable continue, en essayant de se caler au mieux sur une ligne d'erreur seuil. Pour cela, un SVR classifie toutes les prédictions en deux catégories : celles restant dans le domaine d'erreur, et celles ne le respectant pas.\n",
        "\n",
        "Pour le lasso, il existe trois hyper-paramètres sur lesquels nous pouvons jouer pour optimiser notre modèle : \n",
        "- le kernel est le noyau utilisé pour effectuer le calcul dans le modèle\n",
        "- \"C\" ou le paramètre d'erreur\n",
        "- \"gamma\" ou le coefficient du kernel. Plus il est haut et plus chaque valeur d'entraînement est forte.\n",
        "\n",
        "Une fois le calcul effectué, nous visualisons les hyperparamètres pour lesquels les résultats sont \"optimaux\".\n",
        "\n",
        "Nous avons aussi enregistré plusieurs valeurs, comme pour chacun des modèles que nous calculerons, et en double (le train et le test), afin de comparer l'efficacité de tous les modèles testés ici : \n",
        "- le temps d'exécution du modèle (entre le tout début et la fin des predicts)\n",
        "- le score : ici, nous utiliserons le R2\n",
        "- la RMSE : racine carrée du carré moyen des erreurs, qui doit être la plus basse possible \n",
        "- la MAE : moyenne arithmétique des valeurs absolues des écarts"
      ]
    },
    {
      "cell_type": "code",
      "metadata": {
        "id": "1LRhHfSzx8sb",
        "colab_type": "code",
        "outputId": "bff83e35-8095-47ec-fdcb-f9ac2e144705",
        "colab": {
          "base_uri": "https://localhost:8080/",
          "height": 34
        }
      },
      "source": [
        "start_time=time.time()\n",
        "\n",
        "parameters = {'kernel':['linear','poly','rbf','sigmoid']}\n",
        "\n",
        "model=svm.SVR()\n",
        "svr_model = GridSearchCV(cv=folds, estimator=model,param_grid=parameters,return_train_score=True)\n",
        "svr_model.fit(Xtrain_scaled,Ytrain)\n",
        "\n",
        "svrtime=time.time()-start_time\n",
        "\n",
        "res_svr= svr_model.cv_results_\n",
        "train_score_svr= res_svr['mean_train_score']\n",
        "test_score_svr = res_svr['mean_test_score']\n",
        "#C_svr=res_svr['param_C']\n",
        "#gamma_svr=res_svr['param_gamma']\n",
        "\n",
        "print (\"Meilleur(s) hyperparamètre(s) sur le jeu d'entraînement:\",svr_model.best_params_)\n"
      ],
      "execution_count": 56,
      "outputs": [
        {
          "output_type": "stream",
          "text": [
            "Meilleur(s) hyperparamètre(s) sur le jeu d'entraînement: {'kernel': 'sigmoid'}\n"
          ],
          "name": "stdout"
        }
      ]
    },
    {
      "cell_type": "code",
      "metadata": {
        "id": "zKdHiY8nx_xD",
        "colab_type": "code",
        "outputId": "6c297c15-6c56-4d93-cddb-e3ecc7f37555",
        "colab": {
          "base_uri": "https://localhost:8080/",
          "height": 153
        }
      },
      "source": [
        "print (\"Valeurs pour le SVR sur le train\")\n",
        "svrpredtrain= svr_model.predict(Xtrain_scaled)\n",
        "svrpredtrainrmse=np.sqrt(mean_squared_error(Ytrain,svrpredtrain))\n",
        "print(\"RMSE = \",svrpredtrainrmse)\n",
        "svrpredtrainr2=r2_score(Ytrain, svrpredtrain)\n",
        "print(\"R2 score = \",svrpredtrainr2)\n",
        "svrpredtrainmae= mean_absolute_error(Ytrain,svrpredtrain)\n",
        "print (\"MAE :\", svrpredtrainmae)\n",
        "\n",
        "print (\"Valeurs pour le SVR sur le test\")\n",
        "svrpredtest= svr_model.predict(Xtest_scaled)\n",
        "svrpredtestrmse=np.sqrt(mean_squared_error(Ytest,svrpredtest))\n",
        "print(\"RMSE = \",svrpredtestrmse)\n",
        "svrpredtestr2=r2_score(Ytest,svrpredtest)\n",
        "print(\"R2 score = \",svrpredtestr2)\n",
        "svrpredtestmae= mean_absolute_error(Ytest,svrpredtest)\n",
        "print (\"MAE :\", svrpredtestmae)\n",
        "\n",
        "svrstats=[\"SVR\",svrpredtrainr2,svrpredtrainrmse,svrpredtrainmae,svrpredtestr2,svrpredtestrmse,svrpredtestmae,svrtime]"
      ],
      "execution_count": 57,
      "outputs": [
        {
          "output_type": "stream",
          "text": [
            "Valeurs pour le SVR sur le train\n",
            "RMSE =  2.8304241161367485\n",
            "R2 score =  0.16509066180743082\n",
            "MAE : 0.5733706050731338\n",
            "Valeurs pour le SVR sur le test\n",
            "RMSE =  0.4929269551292008\n",
            "R2 score =  0.5829067452872393\n",
            "MAE : 0.30056971682019484\n"
          ],
          "name": "stdout"
        }
      ]
    },
    {
      "cell_type": "markdown",
      "metadata": {
        "id": "Q-VNI_sIyGAc",
        "colab_type": "text"
      },
      "source": [
        "<h3>MLP (Multi-layer Perceptron regressor)</h3>\n",
        "\n",
        "Nous testons ensuite le MLP (dans le GridSearchCV) qui utilise un réseau de neurones à propagation avant. il prend donc les échantillons d'entrée et utilise des couches de neurones pour effectuer les calculs.\n",
        "\n",
        "Pour le MLP, il existe 4 hyper-paramètres sur lesquels nous pouvons jouer pour optimiser notre modèle : \n",
        "- 'hidden_layer_sizes' ou le nombre de couches et le nombre de neurones de chaque couche\n",
        "- \"activation\" ou les différents types de fonctions des couches renvoyant différentes fonctions\n",
        "- \"solver\" pour l'optimisation des poids\n",
        "- \"alpha\" qui est la force de régularisation, afin de réduire la variance des estimations\n",
        "\n",
        "Une fois le calcul effectué, nous visualisons les hyperparamètres pour lesquels les résultats sont \"optimaux\".\n",
        "\n",
        "Nous avons aussi enregistré plusieurs valeurs, comme pour chacun des modèles que nous calculerons, et en double (le train et le test), afin de comparer l'efficacité de tous les modèles testés ici : \n",
        "- le temps d'exécution du modèle (entre le tout début et la fin des predicts)\n",
        "- le score : ici, nous utiliserons le R2\n",
        "- la RMSE : racine carrée du carré moyen des erreurs, qui doit être la plus basse possible \n",
        "- la MAE : moyenne arithmétique des valeurs absolues des écarts"
      ]
    },
    {
      "cell_type": "code",
      "metadata": {
        "id": "YpC8m9PKyIxT",
        "colab_type": "code",
        "outputId": "9cec1ddd-1a74-4453-dfd4-682699362acf",
        "colab": {
          "base_uri": "https://localhost:8080/",
          "height": 34
        }
      },
      "source": [
        "start_time=time.time()\n",
        "\n",
        "parameters = {'hidden_layer_sizes':[(50,),(50,50)],'activation':['identity','logistic','tanh','relu'],'solver':['lbfgs','adam']}\n",
        "model=MLPRegressor()\n",
        "mlp=GridSearchCV(cv=folds, estimator=model,param_grid=parameters,return_train_score=True)\n",
        "mlp.fit(Xtrain_scaled,Ytrain)\n",
        "\n",
        "mlptime=time.time()-start_time\n",
        "\n",
        "res_mlp= mlp.cv_results_\n",
        "train_score_mlp= res_mlp['mean_train_score']\n",
        "test_score_mlp = res_mlp['mean_test_score']\n",
        "\n",
        "print (\"Meilleur(s) hyperparamètre(s) sur le jeu d'entraînement:\",mlp.best_params_)\n"
      ],
      "execution_count": 58,
      "outputs": [
        {
          "output_type": "stream",
          "text": [
            "Meilleur(s) hyperparamètre(s) sur le jeu d'entraînement: {'activation': 'logistic', 'hidden_layer_sizes': (50, 50), 'solver': 'adam'}\n"
          ],
          "name": "stdout"
        }
      ]
    },
    {
      "cell_type": "code",
      "metadata": {
        "id": "F-YNsL8ryMBM",
        "colab_type": "code",
        "outputId": "ffe06aed-13dd-4889-ba28-f373e775672c",
        "colab": {
          "base_uri": "https://localhost:8080/",
          "height": 153
        }
      },
      "source": [
        "print (\"Valeurs pour le MLP sur le train\")\n",
        "mlppredtrain= mlp.predict(Xtrain_scaled)\n",
        "mlppredtrainrmse=np.sqrt(mean_squared_error(Ytrain,mlppredtrain))\n",
        "print(\"RMSE = \",mlppredtrainrmse)\n",
        "mlppredtrainr2=r2_score(Ytrain, mlppredtrain)\n",
        "print(\"R2 score = \",mlppredtrainr2)\n",
        "mlppredtrainmae= mean_absolute_error(Ytrain,mlppredtrain)\n",
        "print (\"MAE :\", mlppredtrainmae)\n",
        "\n",
        "print (\"Valeurs pour le MLP sur le test\")\n",
        "mlppredtest= mlp.predict(Xtest_scaled)\n",
        "mlppredtestrmse=np.sqrt(mean_squared_error(Ytest,mlppredtest))\n",
        "print(\"RMSE = \",mlppredtestrmse)\n",
        "mlppredtestr2=r2_score(Ytest,mlppredtest)\n",
        "print(\"R2 score = \",mlppredtestr2)\n",
        "mlppredtestmae= mean_absolute_error(Ytest,mlppredtest)\n",
        "print (\"MAE :\", mlppredtestmae)\n",
        "\n",
        "mlpstats=[\"MLP\",mlppredtrainr2,mlppredtrainrmse,mlppredtrainmae,mlppredtestr2,mlppredtestrmse,mlppredtestmae,mlptime]"
      ],
      "execution_count": 59,
      "outputs": [
        {
          "output_type": "stream",
          "text": [
            "Valeurs pour le MLP sur le train\n",
            "RMSE =  2.7366698449851374\n",
            "R2 score =  0.21948527590723044\n",
            "MAE : 0.5794434551088901\n",
            "Valeurs pour le MLP sur le test\n",
            "RMSE =  0.7768050284162454\n",
            "R2 score =  -0.03583859209797691\n",
            "MAE : 0.5280687020281333\n"
          ],
          "name": "stdout"
        }
      ]
    },
    {
      "cell_type": "markdown",
      "metadata": {
        "id": "IQhCE7NRyRgp",
        "colab_type": "text"
      },
      "source": [
        "<h3>Random Forest</h3>\n",
        "\n",
        "Nous testons enfin le RF (dans le GridSearchCV) qui combine de multiples arbres de décision pour fusionner leurs prédictions afin d'obtenir une prédiction finale plus stable et précis.\n",
        "\n",
        "Pour le RF, il existe 3 hyper-paramètres sur lesquels nous pouvons jouer pour optimiser notre modèle : \n",
        "- Le nombre d'estimateurs est le nombre d'arbres de décision utilisés\n",
        "- Le criterion est la fonction mesurant la qualité d'une décision\n",
        "- La profondeur maximale des arbres\n",
        "\n",
        "Une fois le calcul effectué, nous visualisons plusieurs indications :\n",
        "- La stratégie pour laquelle les résultats sont \"optimaux\"\n",
        "- Le score correspondant à chaque stratégie\n",
        "- Le score correspondant à chacun des 5 tours demandés par la cross-validation, afin de confirmer que la répartition des échantillons se fait de manière homogène\n",
        "\n",
        "Nous avons aussi enregistré plusieurs valeurs, comme pour chacun des modèles que nous calculerons, et en double (le train et le test), afin de comparer l'efficacité de tous les modèles testés ici : \n",
        "- le temps d'exécution du modèle (entre le tout début et la fin des predicts)\n",
        "- le score : ici, nous utiliserons le R2\n",
        "- la RMSE : racine carrée du carré moyen des erreurs, qui doit être la plus basse possible \n",
        "- la MAE : moyenne arithmétique des valeurs absolues des écarts"
      ]
    },
    {
      "cell_type": "code",
      "metadata": {
        "id": "LoV32guKyV7t",
        "colab_type": "code",
        "outputId": "c6cf5e4d-0483-4da7-bf68-48b7e5d9e451",
        "colab": {
          "base_uri": "https://localhost:8080/",
          "height": 34
        }
      },
      "source": [
        "start_time=time.time()\n",
        "\n",
        "parameters = {'n_estimators':[50,100,200],'max_depth':[30,50],\"criterion\":[\"mse\"]}\n",
        "\n",
        "model=RandomForestRegressor()\n",
        "rf = GridSearchCV(cv=folds, estimator=model,param_grid=parameters,return_train_score=True)\n",
        "rf.fit(Xtrain_scaled,Ytrain)\n",
        "\n",
        "rftime=time.time()-start_time\n",
        "\n",
        "res_rf= rf.cv_results_\n",
        "train_score_rf= res_rf['mean_train_score']\n",
        "test_score_rf = res_rf['mean_test_score']\n",
        "\n",
        "print (\"Meilleur(s) hyperparamètre(s) sur le jeu d'entraînement:\",rf.best_params_)\n"
      ],
      "execution_count": 60,
      "outputs": [
        {
          "output_type": "stream",
          "text": [
            "Meilleur(s) hyperparamètre(s) sur le jeu d'entraînement: {'criterion': 'mse', 'max_depth': 30, 'n_estimators': 100}\n"
          ],
          "name": "stdout"
        }
      ]
    },
    {
      "cell_type": "code",
      "metadata": {
        "id": "n7Dx0SC8yY-1",
        "colab_type": "code",
        "outputId": "c0d91033-412a-45d2-ef3b-4ef4c573b930",
        "colab": {
          "base_uri": "https://localhost:8080/",
          "height": 153
        }
      },
      "source": [
        "print (\"Valeurs pour le Random Forest sur le train\")\n",
        "rfpredtrain= rf.predict(Xtrain_scaled)\n",
        "rfpredtrainrmse=np.sqrt(mean_squared_error(Ytrain,rfpredtrain))\n",
        "print(\"RMSE = \",rfpredtrainrmse)\n",
        "rfpredtrainr2=r2_score(Ytrain, rfpredtrain)\n",
        "print(\"R2 score = \",rfpredtrainr2)\n",
        "rfpredtrainmae= mean_absolute_error(Ytrain,rfpredtrain)\n",
        "print (\"MAE :\", rfpredtrainmae)\n",
        "\n",
        "\n",
        "print (\"Valeurs pour le Random Forest sur le test\")\n",
        "rfpredtest= rf.predict(Xtest_scaled)\n",
        "rfpredtestrmse=np.sqrt(mean_squared_error(Ytest,rfpredtest))\n",
        "print(\"RMSE = \",rfpredtestrmse)\n",
        "rfpredtestr2=r2_score(Ytest,rfpredtest)\n",
        "print(\"R2 score = \",rfpredtestr2)\n",
        "rfpredtestmae= mean_absolute_error(Ytest,rfpredtest)\n",
        "print (\"MAE :\", rfpredtestmae)\n",
        "\n",
        "rfstats=[\"Random Forest\",rfpredtrainr2,rfpredtrainrmse,rfpredtrainmae,rfpredtestr2,rfpredtestrmse,rfpredtestmae,rftime]\n"
      ],
      "execution_count": 61,
      "outputs": [
        {
          "output_type": "stream",
          "text": [
            "Valeurs pour le Random Forest sur le train\n",
            "RMSE =  1.095034384413055\n",
            "R2 score =  0.8750340199698732\n",
            "MAE : 0.23133046875000032\n",
            "Valeurs pour le Random Forest sur le test\n",
            "RMSE =  0.19679038657922274\n",
            "R2 score =  0.933522330077557\n",
            "MAE : 0.13776874999999988\n"
          ],
          "name": "stdout"
        }
      ]
    },
    {
      "cell_type": "markdown",
      "metadata": {
        "id": "VJfZkevHyeb7",
        "colab_type": "text"
      },
      "source": [
        "<h3>Comparaison des modèles</h3>\n",
        "\n",
        "Maintenant que nous avons fait tourné tous les modèles pouvant être intéressants pour nos données afin d'obtenir la consommation totale d'énergie par pied carré, nous les comparons pour sélectionner le plus adapté.\n",
        "\n",
        "Le modèle le plus adapté est donc un modèle possédant un haut score, des valeurs d'erreur basses, ainsi qu'un temps d'exécution correct.\n",
        "\n",
        "Les plus hauts scores sont obtenus avec les modèles de régression linéaire et de MLP. Or, la régression linéaire donne des erreurs plus faibles et un temps d'exécution beaucoup plus rapide : ce sera donc le modèle sélectionné pour calculer la consommation totale d'énergie par pied carré."
      ]
    },
    {
      "cell_type": "code",
      "metadata": {
        "id": "8aMF4hbkydKS",
        "colab_type": "code",
        "outputId": "498e509d-be8e-4140-eeea-e7a376d37b0f",
        "colab": {
          "base_uri": "https://localhost:8080/",
          "height": 680
        }
      },
      "source": [
        "statsnom=[\"Score train\",\"RMSE train\",\"MAE train\",\"Score test\",\"RMSE test\",\"MAE test\",\"Temps d'exécution\"]\n",
        "stats=[statsnom,dustats,knnstats,lrstats,ridstats,lasstats,svrstats,mlpstats,rfstats]\n",
        "\n",
        "modeles=[\"Dummy regressor\",\"kNN\",\"Régression linéaire\",\"Regression ridge\",\"Lasso\",\"SVR\",\"MLP\",\"Random Forest\"]\n",
        "scoretrain=[dupredtrainr2,knnpredtrainr2,lrpredtrainr2,ridpredtrainr2,laspredtrainr2,svrpredtrainr2,mlppredtrainr2,rfpredtrainr2]\n",
        "scoretest=[dupredtestr2,knnpredtestr2,lrpredtestr2,ridpredtestr2,laspredtestr2,svrpredtestr2,mlppredtestr2,rfpredtestr2]\n",
        "\n",
        "rmsetrain=[dupredtrainrmse,knnpredtrainrmse,lrpredtrainrmse,ridpredtrainrmse,laspredtrainrmse,svrpredtrainrmse,mlppredtrainrmse,rfpredtrainrmse]\n",
        "rmsetest=[dupredtestrmse,knnpredtestrmse,lrpredtestrmse,ridpredtestrmse,laspredtestrmse,svrpredtestrmse,mlppredtestrmse,rfpredtestrmse]\n",
        "\n",
        "maetrain=[dupredtrainmae,knnpredtrainmae,lrpredtrainmae,ridpredtrainmae,laspredtrainmae,svrpredtrainmae,mlppredtrainmae,rfpredtrainmae]\n",
        "maetest=[dupredtestmae,knnpredtestmae,lrpredtestmae,ridpredtestmae,laspredtestmae,svrpredtestmae,mlppredtestmae,rfpredtestmae]\n",
        "\n",
        "time=[dutime,knntime,lrtime,ridtime,lastime,svrtime,mlptime,rftime]\n",
        "\n",
        "\n",
        "datamodeles=pd.DataFrame(dict(modeles=modeles, scoretrain=scoretrain,scoretest=scoretest,rmsetrain=rmsetrain,rmsetest=rmsetest,maetrain=maetrain,maetest=maetest,time=time))\n",
        "\n",
        "print (datamodeles.iloc[:,[0,1,2]])\n",
        "print ()\n",
        "print (datamodeles.iloc[:,[0,3,4]])\n",
        "print ()\n",
        "print (datamodeles.iloc[:,[0,5,6]])\n",
        "print ()\n",
        "print (datamodeles.iloc[:,[0,7]])"
      ],
      "execution_count": 62,
      "outputs": [
        {
          "output_type": "stream",
          "text": [
            "               modeles  scoretrain  scoretest\n",
            "0      Dummy regressor   -0.040111  -0.157404\n",
            "1                  kNN    0.406311   0.541367\n",
            "2  Régression linéaire    0.699934  -3.164887\n",
            "3     Regression ridge    0.431453   0.529389\n",
            "4                Lasso    0.013029  -0.169059\n",
            "5                  SVR    0.165091   0.582907\n",
            "6                  MLP    0.219485  -0.035839\n",
            "7        Random Forest    0.875034   0.933522\n",
            "\n",
            "               modeles  rmsetrain  rmsetest\n",
            "0      Dummy regressor   3.159161  0.821123\n",
            "1                  kNN   2.386774  0.516891\n",
            "2  Régression linéaire   1.696838  1.557642\n",
            "3     Regression ridge   2.335689  0.523597\n",
            "4                Lasso   3.077401  0.825247\n",
            "5                  SVR   2.830424  0.492927\n",
            "6                  MLP   2.736670  0.776805\n",
            "7        Random Forest   1.095034  0.196790\n",
            "\n",
            "               modeles  maetrain   maetest\n",
            "0      Dummy regressor  0.878516  0.543438\n",
            "1                  kNN  0.624047  0.353063\n",
            "2  Régression linéaire  1.416974  1.437891\n",
            "3     Regression ridge  0.722123  0.414436\n",
            "4                Lasso  1.087796  0.728108\n",
            "5                  SVR  0.573371  0.300570\n",
            "6                  MLP  0.579443  0.528069\n",
            "7        Random Forest  0.231330  0.137769\n",
            "\n",
            "               modeles       time\n",
            "0      Dummy regressor   0.033494\n",
            "1                  kNN   0.840012\n",
            "2  Régression linéaire   0.276763\n",
            "3     Regression ridge   9.750164\n",
            "4                Lasso  15.512748\n",
            "5                  SVR   0.250694\n",
            "6                  MLP  21.663622\n",
            "7        Random Forest   6.906812\n"
          ],
          "name": "stdout"
        }
      ]
    },
    {
      "cell_type": "markdown",
      "metadata": {
        "id": "B_7Jv7UJkRnd",
        "colab_type": "text"
      },
      "source": [
        "<h3>Optimisation du modèle choisi</h3>"
      ]
    },
    {
      "cell_type": "code",
      "metadata": {
        "id": "57N4HE1szuAW",
        "colab_type": "code",
        "outputId": "3f8532d9-8d56-4a49-ec4a-09065f24d049",
        "colab": {
          "base_uri": "https://localhost:8080/",
          "height": 136
        }
      },
      "source": [
        "\n",
        "print (\"\\nScores après chaque pli test (ici 5) :\")\n",
        "best_estim_place = np.where(rf.cv_results_['rank_test_score'] == 1)[0][0] \n",
        "for i in range(5):    \n",
        "  print(str(i),\" : \",rf.cv_results_['split' + str(i) + '_test_score'][best_estim_place])\n"
      ],
      "execution_count": 63,
      "outputs": [
        {
          "output_type": "stream",
          "text": [
            "\n",
            "Scores après chaque pli test (ici 5) :\n",
            "0  :  0.07237633783976116\n",
            "1  :  0.6639534991648274\n",
            "2  :  0.7385132594916838\n",
            "3  :  0.7126319971633113\n",
            "4  :  -1.3296524438282438\n"
          ],
          "name": "stdout"
        }
      ]
    },
    {
      "cell_type": "code",
      "metadata": {
        "id": "PKqs7301kSKI",
        "colab_type": "code",
        "outputId": "9c17cf10-e52a-4a4f-f808-881e8964990a",
        "colab": {
          "base_uri": "https://localhost:8080/",
          "height": 51
        }
      },
      "source": [
        "print (\"Meilleur(s) hyperparamètre(s) sur le jeu d'entraînement sur le RF précédent :\",rf.best_params_)\n",
        "\n",
        "start_time=time.time()\n",
        "estim= [i for i in np.arange(90,112,2)]\n",
        "depth=[i for i in np.arange(20,42,2)]\n",
        "\n",
        "parameters = {'criterion':['mse'],'n_estimators':estim,'max_depth':depth}\n",
        "\n",
        "model=RandomForestRegressor()\n",
        "rfopti = GridSearchCV(cv=folds, estimator=model,param_grid=parameters,return_train_score=True)\n",
        "rfopti.fit(Xtrain_scaled,Ytrain)\n",
        "\n",
        "rftime=time.time()-start_time\n",
        "\n",
        "res_rf= rfopti.cv_results_\n",
        "train_score_rf= res_rf['mean_train_score']\n",
        "test_score_rf = res_rf['mean_test_score']\n",
        "\n",
        "print (\"Meilleur(s) hyperparamètre(s) sur le jeu d'entraînement:\",rfopti.best_params_)"
      ],
      "execution_count": 68,
      "outputs": [
        {
          "output_type": "stream",
          "text": [
            "Meilleur(s) hyperparamètre(s) sur le jeu d'entraînement sur le RF précédent : {'criterion': 'mse', 'max_depth': 30, 'n_estimators': 100}\n",
            "Meilleur(s) hyperparamètre(s) sur le jeu d'entraînement: {'criterion': 'mse', 'max_depth': 38, 'n_estimators': 92}\n"
          ],
          "name": "stdout"
        }
      ]
    },
    {
      "cell_type": "code",
      "metadata": {
        "id": "qd1NGNrDlK2j",
        "colab_type": "code",
        "outputId": "b823d3e7-38a7-4e1f-8d93-3c914449f5bd",
        "colab": {
          "base_uri": "https://localhost:8080/",
          "height": 153
        }
      },
      "source": [
        "print (\"Valeurs pour le Random Forest sur le train\")\n",
        "rfpredtrain= rfopti.predict(Xtrain_scaled)\n",
        "rfpredtrainrmse=np.sqrt(mean_squared_error(Ytrain,rfpredtrain))\n",
        "print(\"RMSE = \",rfpredtrainrmse)\n",
        "rfpredtrainr2=r2_score(Ytrain, rfpredtrain)\n",
        "print(\"R2 score = \",rfpredtrainr2)\n",
        "rfpredtrainmae= mean_absolute_error(Ytrain,rfpredtrain)\n",
        "print (\"MAE :\", rfpredtrainmae)\n",
        "\n",
        "\n",
        "print (\"Valeurs pour le Random Forest sur le test\")\n",
        "rfpredtest= rfopti.predict(Xtest_scaled)\n",
        "rfpredtestrmse=np.sqrt(mean_squared_error(Ytest,rfpredtest))\n",
        "print(\"RMSE = \",rfpredtestrmse)\n",
        "rfpredtestr2=r2_score(Ytest,rfpredtest)\n",
        "print(\"R2 score = \",rfpredtestr2)\n",
        "rfpredtestmae= mean_absolute_error(Ytest,rfpredtest)\n",
        "print (\"MAE :\", rfpredtestmae)\n",
        "\n"
      ],
      "execution_count": 69,
      "outputs": [
        {
          "output_type": "stream",
          "text": [
            "Valeurs pour le Random Forest sur le train\n",
            "RMSE =  1.0692754012407695\n",
            "R2 score =  0.8808441309115888\n",
            "MAE : 0.2334408967391306\n",
            "Valeurs pour le Random Forest sur le test\n",
            "RMSE =  0.2553529904894209\n",
            "R2 score =  0.8880691175441691\n",
            "MAE : 0.17158288043478256\n"
          ],
          "name": "stdout"
        }
      ]
    }
  ]
}